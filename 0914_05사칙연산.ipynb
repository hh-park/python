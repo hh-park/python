{
 "cells": [
  {
   "cell_type": "code",
   "execution_count": 3,
   "metadata": {},
   "outputs": [],
   "source": [
    "import numpy as np\n",
    "import matplotlib.pyplot as plt"
   ]
  },
  {
   "cell_type": "code",
   "execution_count": 3,
   "metadata": {},
   "outputs": [],
   "source": [
    "n=np.inf"
   ]
  },
  {
   "cell_type": "code",
   "execution_count": 4,
   "metadata": {},
   "outputs": [
    {
     "data": {
      "text/plain": [
       "True"
      ]
     },
     "execution_count": 4,
     "metadata": {},
     "output_type": "execute_result"
    }
   ],
   "source": [
    "n>10000000000000000"
   ]
  },
  {
   "cell_type": "code",
   "execution_count": 5,
   "metadata": {},
   "outputs": [],
   "source": [
    "a = np.arange(12).reshape(4,3)"
   ]
  },
  {
   "cell_type": "code",
   "execution_count": 6,
   "metadata": {},
   "outputs": [
    {
     "data": {
      "text/plain": [
       "array([[1.00000000e+05, 9.99990000e-01, 4.99997500e-01],\n",
       "       [3.33332222e-01, 2.49999375e-01, 1.99999600e-01],\n",
       "       [1.66666389e-01, 1.42856939e-01, 1.24999844e-01],\n",
       "       [1.11110988e-01, 9.99999000e-02, 9.09090083e-02]])"
      ]
     },
     "execution_count": 6,
     "metadata": {},
     "output_type": "execute_result"
    }
   ],
   "source": [
    "1/(a+0.00001)"
   ]
  },
  {
   "cell_type": "code",
   "execution_count": 7,
   "metadata": {},
   "outputs": [
    {
     "data": {
      "text/plain": [
       "array([[ -2,  -3,   3],\n",
       "       [  6,  16,  23],\n",
       "       [ 32,  48,  61],\n",
       "       [ 81,  98, 117]], dtype=int32)"
      ]
     },
     "execution_count": 7,
     "metadata": {},
     "output_type": "execute_result"
    }
   ],
   "source": [
    "a**2 - (2*a -3)%5"
   ]
  },
  {
   "cell_type": "code",
   "execution_count": 8,
   "metadata": {},
   "outputs": [
    {
     "name": "stderr",
     "output_type": "stream",
     "text": [
      "C:\\Anaconda3\\lib\\site-packages\\ipykernel_launcher.py:1: RuntimeWarning: divide by zero encountered in true_divide\n",
      "  \"\"\"Entry point for launching an IPython kernel.\n"
     ]
    },
    {
     "data": {
      "text/plain": [
       "array([[       inf, 1.        , 0.5       ],\n",
       "       [0.33333333, 0.25      , 0.2       ],\n",
       "       [0.16666667, 0.14285714, 0.125     ],\n",
       "       [0.11111111, 0.1       , 0.09090909]])"
      ]
     },
     "execution_count": 8,
     "metadata": {},
     "output_type": "execute_result"
    }
   ],
   "source": [
    "1/a"
   ]
  },
  {
   "cell_type": "code",
   "execution_count": 9,
   "metadata": {},
   "outputs": [
    {
     "data": {
      "text/plain": [
       "(inf, -inf, inf)"
      ]
     },
     "execution_count": 9,
     "metadata": {},
     "output_type": "execute_result"
    }
   ],
   "source": [
    "np.inf, -np.inf, np.infty"
   ]
  },
  {
   "cell_type": "markdown",
   "metadata": {},
   "source": [
    "### 브로드캐스팅\n",
    "- 아래로, 옆으로 계산을 확장\n",
    "- 스펙"
   ]
  },
  {
   "cell_type": "code",
   "execution_count": 15,
   "metadata": {},
   "outputs": [
    {
     "data": {
      "text/plain": [
       "array([[ 0,  1,  2],\n",
       "       [ 3,  4,  5],\n",
       "       [ 6,  7,  8],\n",
       "       [ 9, 10, 11]])"
      ]
     },
     "execution_count": 15,
     "metadata": {},
     "output_type": "execute_result"
    }
   ],
   "source": [
    "a"
   ]
  },
  {
   "cell_type": "code",
   "execution_count": 11,
   "metadata": {
    "collapsed": true
   },
   "outputs": [
    {
     "data": {
      "text/plain": [
       "array([[ 1.,  2.,  3.],\n",
       "       [ 4.,  5.,  6.],\n",
       "       [ 7.,  8.,  9.],\n",
       "       [10., 11., 12.]])"
      ]
     },
     "execution_count": 11,
     "metadata": {},
     "output_type": "execute_result"
    }
   ],
   "source": [
    "a+np.ones([4,3])"
   ]
  },
  {
   "cell_type": "code",
   "execution_count": 16,
   "metadata": {},
   "outputs": [
    {
     "data": {
      "text/plain": [
       "array([[ 3,  3,  3],\n",
       "       [ 6,  6,  6],\n",
       "       [ 9,  9,  9],\n",
       "       [12, 12, 12]])"
      ]
     },
     "execution_count": 16,
     "metadata": {},
     "output_type": "execute_result"
    }
   ],
   "source": [
    "# 각각의 열에 더하기\n",
    "a + [3,2,1]"
   ]
  },
  {
   "cell_type": "code",
   "execution_count": 14,
   "metadata": {},
   "outputs": [
    {
     "data": {
      "text/plain": [
       "array([[1],\n",
       "       [2],\n",
       "       [3],\n",
       "       [4]])"
      ]
     },
     "execution_count": 14,
     "metadata": {},
     "output_type": "execute_result"
    }
   ],
   "source": [
    "np.array([[1],[2],[3],[4]])"
   ]
  },
  {
   "cell_type": "code",
   "execution_count": 18,
   "metadata": {},
   "outputs": [
    {
     "data": {
      "text/plain": [
       "array([[ 9, 10, 11],\n",
       "       [ 9, 10, 11],\n",
       "       [ 9, 10, 11],\n",
       "       [ 9, 10, 11]])"
      ]
     },
     "execution_count": 18,
     "metadata": {},
     "output_type": "execute_result"
    }
   ],
   "source": [
    "a + [[9],[6],[3],[0]]"
   ]
  },
  {
   "cell_type": "code",
   "execution_count": 20,
   "metadata": {},
   "outputs": [
    {
     "data": {
      "text/plain": [
       "array([[-4.5, -4.5, -4.5],\n",
       "       [-1.5, -1.5, -1.5],\n",
       "       [ 1.5,  1.5,  1.5],\n",
       "       [ 4.5,  4.5,  4.5]])"
      ]
     },
     "execution_count": 20,
     "metadata": {},
     "output_type": "execute_result"
    }
   ],
   "source": [
    "a - a.mean(axis=0) # 각 속성의 평균값을 빼준다 (결국, 각 속성의 평균이 0이 된다)"
   ]
  },
  {
   "cell_type": "code",
   "execution_count": 26,
   "metadata": {},
   "outputs": [
    {
     "data": {
      "text/plain": [
       "array([[-1.,  0.,  1.],\n",
       "       [-1.,  0.,  1.],\n",
       "       [-1.,  0.,  1.],\n",
       "       [-1.,  0.,  1.]])"
      ]
     },
     "execution_count": 26,
     "metadata": {},
     "output_type": "execute_result"
    }
   ],
   "source": [
    "a-a.mean(axis=1).reshape(4,1) # 각 샘플의 평균값을 빼준다 (샘플의 평균이 0이 됨)"
   ]
  },
  {
   "cell_type": "code",
   "execution_count": 30,
   "metadata": {},
   "outputs": [
    {
     "data": {
      "text/plain": [
       "array([[-1,  0,  1],\n",
       "       [ 3,  4,  5],\n",
       "       [ 6,  7,  8],\n",
       "       [10, 11, 12]])"
      ]
     },
     "execution_count": 30,
     "metadata": {},
     "output_type": "execute_result"
    }
   ],
   "source": [
    "a+[[-1],[0],[0],[1]]"
   ]
  },
  {
   "cell_type": "code",
   "execution_count": 31,
   "metadata": {},
   "outputs": [],
   "source": [
    "b = np.arange(9).reshape(3,3)"
   ]
  },
  {
   "cell_type": "code",
   "execution_count": null,
   "metadata": {},
   "outputs": [],
   "source": [
    "a = np.array([1,2,3,4])\n",
    "b"
   ]
  },
  {
   "cell_type": "markdown",
   "metadata": {},
   "source": [
    "### iris"
   ]
  },
  {
   "cell_type": "code",
   "execution_count": 4,
   "metadata": {},
   "outputs": [],
   "source": [
    "iris=np.loadtxt('iris.csv', delimiter=',', skiprows=1, usecols=[0,1,2,3])"
   ]
  },
  {
   "cell_type": "code",
   "execution_count": 5,
   "metadata": {},
   "outputs": [],
   "source": [
    "iris_norm = (iris-iris.mean(axis=0))/iris.std(axis=0) # 정규화"
   ]
  },
  {
   "cell_type": "code",
   "execution_count": 33,
   "metadata": {
    "collapsed": true
   },
   "outputs": [
    {
     "data": {
      "text/plain": [
       "array([[-9.00681170e-01,  1.03205722e+00, -1.34127240e+00,\n",
       "        -1.31297673e+00],\n",
       "       [-1.14301691e+00, -1.24957601e-01, -1.34127240e+00,\n",
       "        -1.31297673e+00],\n",
       "       [-1.38535265e+00,  3.37848329e-01, -1.39813811e+00,\n",
       "        -1.31297673e+00],\n",
       "       [-1.50652052e+00,  1.06445364e-01, -1.28440670e+00,\n",
       "        -1.31297673e+00],\n",
       "       [-1.02184904e+00,  1.26346019e+00, -1.34127240e+00,\n",
       "        -1.31297673e+00],\n",
       "       [-5.37177559e-01,  1.95766909e+00, -1.17067529e+00,\n",
       "        -1.05003079e+00],\n",
       "       [-1.50652052e+00,  8.00654259e-01, -1.34127240e+00,\n",
       "        -1.18150376e+00],\n",
       "       [-1.02184904e+00,  8.00654259e-01, -1.28440670e+00,\n",
       "        -1.31297673e+00],\n",
       "       [-1.74885626e+00, -3.56360566e-01, -1.34127240e+00,\n",
       "        -1.31297673e+00],\n",
       "       [-1.14301691e+00,  1.06445364e-01, -1.28440670e+00,\n",
       "        -1.44444970e+00],\n",
       "       [-5.37177559e-01,  1.49486315e+00, -1.28440670e+00,\n",
       "        -1.31297673e+00],\n",
       "       [-1.26418478e+00,  8.00654259e-01, -1.22754100e+00,\n",
       "        -1.31297673e+00],\n",
       "       [-1.26418478e+00, -1.24957601e-01, -1.34127240e+00,\n",
       "        -1.44444970e+00],\n",
       "       [-1.87002413e+00, -1.24957601e-01, -1.51186952e+00,\n",
       "        -1.44444970e+00],\n",
       "       [-5.25060772e-02,  2.18907205e+00, -1.45500381e+00,\n",
       "        -1.31297673e+00],\n",
       "       [-1.73673948e-01,  3.11468391e+00, -1.28440670e+00,\n",
       "        -1.05003079e+00],\n",
       "       [-5.37177559e-01,  1.95766909e+00, -1.39813811e+00,\n",
       "        -1.05003079e+00],\n",
       "       [-9.00681170e-01,  1.03205722e+00, -1.34127240e+00,\n",
       "        -1.18150376e+00],\n",
       "       [-1.73673948e-01,  1.72626612e+00, -1.17067529e+00,\n",
       "        -1.18150376e+00],\n",
       "       [-9.00681170e-01,  1.72626612e+00, -1.28440670e+00,\n",
       "        -1.18150376e+00],\n",
       "       [-5.37177559e-01,  8.00654259e-01, -1.17067529e+00,\n",
       "        -1.31297673e+00],\n",
       "       [-9.00681170e-01,  1.49486315e+00, -1.28440670e+00,\n",
       "        -1.05003079e+00],\n",
       "       [-1.50652052e+00,  1.26346019e+00, -1.56873522e+00,\n",
       "        -1.31297673e+00],\n",
       "       [-9.00681170e-01,  5.69251294e-01, -1.17067529e+00,\n",
       "        -9.18557817e-01],\n",
       "       [-1.26418478e+00,  8.00654259e-01, -1.05694388e+00,\n",
       "        -1.31297673e+00],\n",
       "       [-1.02184904e+00, -1.24957601e-01, -1.22754100e+00,\n",
       "        -1.31297673e+00],\n",
       "       [-1.02184904e+00,  8.00654259e-01, -1.22754100e+00,\n",
       "        -1.05003079e+00],\n",
       "       [-7.79513300e-01,  1.03205722e+00, -1.28440670e+00,\n",
       "        -1.31297673e+00],\n",
       "       [-7.79513300e-01,  8.00654259e-01, -1.34127240e+00,\n",
       "        -1.31297673e+00],\n",
       "       [-1.38535265e+00,  3.37848329e-01, -1.22754100e+00,\n",
       "        -1.31297673e+00],\n",
       "       [-1.26418478e+00,  1.06445364e-01, -1.22754100e+00,\n",
       "        -1.31297673e+00],\n",
       "       [-5.37177559e-01,  8.00654259e-01, -1.28440670e+00,\n",
       "        -1.05003079e+00],\n",
       "       [-7.79513300e-01,  2.42047502e+00, -1.28440670e+00,\n",
       "        -1.44444970e+00],\n",
       "       [-4.16009689e-01,  2.65187798e+00, -1.34127240e+00,\n",
       "        -1.31297673e+00],\n",
       "       [-1.14301691e+00,  1.06445364e-01, -1.28440670e+00,\n",
       "        -1.44444970e+00],\n",
       "       [-1.02184904e+00,  3.37848329e-01, -1.45500381e+00,\n",
       "        -1.31297673e+00],\n",
       "       [-4.16009689e-01,  1.03205722e+00, -1.39813811e+00,\n",
       "        -1.31297673e+00],\n",
       "       [-1.14301691e+00,  1.06445364e-01, -1.28440670e+00,\n",
       "        -1.44444970e+00],\n",
       "       [-1.74885626e+00, -1.24957601e-01, -1.39813811e+00,\n",
       "        -1.31297673e+00],\n",
       "       [-9.00681170e-01,  8.00654259e-01, -1.28440670e+00,\n",
       "        -1.31297673e+00],\n",
       "       [-1.02184904e+00,  1.03205722e+00, -1.39813811e+00,\n",
       "        -1.18150376e+00],\n",
       "       [-1.62768839e+00, -1.74477836e+00, -1.39813811e+00,\n",
       "        -1.18150376e+00],\n",
       "       [-1.74885626e+00,  3.37848329e-01, -1.39813811e+00,\n",
       "        -1.31297673e+00],\n",
       "       [-1.02184904e+00,  1.03205722e+00, -1.22754100e+00,\n",
       "        -7.87084847e-01],\n",
       "       [-9.00681170e-01,  1.72626612e+00, -1.05694388e+00,\n",
       "        -1.05003079e+00],\n",
       "       [-1.26418478e+00, -1.24957601e-01, -1.34127240e+00,\n",
       "        -1.18150376e+00],\n",
       "       [-9.00681170e-01,  1.72626612e+00, -1.22754100e+00,\n",
       "        -1.31297673e+00],\n",
       "       [-1.50652052e+00,  3.37848329e-01, -1.34127240e+00,\n",
       "        -1.31297673e+00],\n",
       "       [-6.58345429e-01,  1.49486315e+00, -1.28440670e+00,\n",
       "        -1.31297673e+00],\n",
       "       [-1.02184904e+00,  5.69251294e-01, -1.34127240e+00,\n",
       "        -1.31297673e+00],\n",
       "       [ 1.40150837e+00,  3.37848329e-01,  5.35295827e-01,\n",
       "         2.64698913e-01],\n",
       "       [ 6.74501145e-01,  3.37848329e-01,  4.21564419e-01,\n",
       "         3.96171883e-01],\n",
       "       [ 1.28034050e+00,  1.06445364e-01,  6.49027235e-01,\n",
       "         3.96171883e-01],\n",
       "       [-4.16009689e-01, -1.74477836e+00,  1.37235899e-01,\n",
       "         1.33225943e-01],\n",
       "       [ 7.95669016e-01, -5.87763531e-01,  4.78430123e-01,\n",
       "         3.96171883e-01],\n",
       "       [-1.73673948e-01, -5.87763531e-01,  4.21564419e-01,\n",
       "         1.33225943e-01],\n",
       "       [ 5.53333275e-01,  5.69251294e-01,  5.35295827e-01,\n",
       "         5.27644853e-01],\n",
       "       [-1.14301691e+00, -1.51337539e+00, -2.60824029e-01,\n",
       "        -2.61192967e-01],\n",
       "       [ 9.16836886e-01, -3.56360566e-01,  4.78430123e-01,\n",
       "         1.33225943e-01],\n",
       "       [-7.79513300e-01, -8.19166497e-01,  8.03701950e-02,\n",
       "         2.64698913e-01],\n",
       "       [-1.02184904e+00, -2.43898725e+00, -1.47092621e-01,\n",
       "        -2.61192967e-01],\n",
       "       [ 6.86617933e-02, -1.24957601e-01,  2.50967307e-01,\n",
       "         3.96171883e-01],\n",
       "       [ 1.89829664e-01, -1.97618132e+00,  1.37235899e-01,\n",
       "        -2.61192967e-01],\n",
       "       [ 3.10997534e-01, -3.56360566e-01,  5.35295827e-01,\n",
       "         2.64698913e-01],\n",
       "       [-2.94841818e-01, -3.56360566e-01, -9.02269170e-02,\n",
       "         1.33225943e-01],\n",
       "       [ 1.03800476e+00,  1.06445364e-01,  3.64698715e-01,\n",
       "         2.64698913e-01],\n",
       "       [-2.94841818e-01, -1.24957601e-01,  4.21564419e-01,\n",
       "         3.96171883e-01],\n",
       "       [-5.25060772e-02, -8.19166497e-01,  1.94101603e-01,\n",
       "        -2.61192967e-01],\n",
       "       [ 4.32165405e-01, -1.97618132e+00,  4.21564419e-01,\n",
       "         3.96171883e-01],\n",
       "       [-2.94841818e-01, -1.28197243e+00,  8.03701950e-02,\n",
       "        -1.29719997e-01],\n",
       "       [ 6.86617933e-02,  3.37848329e-01,  5.92161531e-01,\n",
       "         7.90590793e-01],\n",
       "       [ 3.10997534e-01, -5.87763531e-01,  1.37235899e-01,\n",
       "         1.33225943e-01],\n",
       "       [ 5.53333275e-01, -1.28197243e+00,  6.49027235e-01,\n",
       "         3.96171883e-01],\n",
       "       [ 3.10997534e-01, -5.87763531e-01,  5.35295827e-01,\n",
       "         1.75297293e-03],\n",
       "       [ 6.74501145e-01, -3.56360566e-01,  3.07833011e-01,\n",
       "         1.33225943e-01],\n",
       "       [ 9.16836886e-01, -1.24957601e-01,  3.64698715e-01,\n",
       "         2.64698913e-01],\n",
       "       [ 1.15917263e+00, -5.87763531e-01,  5.92161531e-01,\n",
       "         2.64698913e-01],\n",
       "       [ 1.03800476e+00, -1.24957601e-01,  7.05892939e-01,\n",
       "         6.59117823e-01],\n",
       "       [ 1.89829664e-01, -3.56360566e-01,  4.21564419e-01,\n",
       "         3.96171883e-01],\n",
       "       [-1.73673948e-01, -1.05056946e+00, -1.47092621e-01,\n",
       "        -2.61192967e-01],\n",
       "       [-4.16009689e-01, -1.51337539e+00,  2.35044910e-02,\n",
       "        -1.29719997e-01],\n",
       "       [-4.16009689e-01, -1.51337539e+00, -3.33612130e-02,\n",
       "        -2.61192967e-01],\n",
       "       [-5.25060772e-02, -8.19166497e-01,  8.03701950e-02,\n",
       "         1.75297293e-03],\n",
       "       [ 1.89829664e-01, -8.19166497e-01,  7.62758643e-01,\n",
       "         5.27644853e-01],\n",
       "       [-5.37177559e-01, -1.24957601e-01,  4.21564419e-01,\n",
       "         3.96171883e-01],\n",
       "       [ 1.89829664e-01,  8.00654259e-01,  4.21564419e-01,\n",
       "         5.27644853e-01],\n",
       "       [ 1.03800476e+00,  1.06445364e-01,  5.35295827e-01,\n",
       "         3.96171883e-01],\n",
       "       [ 5.53333275e-01, -1.74477836e+00,  3.64698715e-01,\n",
       "         1.33225943e-01],\n",
       "       [-2.94841818e-01, -1.24957601e-01,  1.94101603e-01,\n",
       "         1.33225943e-01],\n",
       "       [-4.16009689e-01, -1.28197243e+00,  1.37235899e-01,\n",
       "         1.33225943e-01],\n",
       "       [-4.16009689e-01, -1.05056946e+00,  3.64698715e-01,\n",
       "         1.75297293e-03],\n",
       "       [ 3.10997534e-01, -1.24957601e-01,  4.78430123e-01,\n",
       "         2.64698913e-01],\n",
       "       [-5.25060772e-02, -1.05056946e+00,  1.37235899e-01,\n",
       "         1.75297293e-03],\n",
       "       [-1.02184904e+00, -1.74477836e+00, -2.60824029e-01,\n",
       "        -2.61192967e-01],\n",
       "       [-2.94841818e-01, -8.19166497e-01,  2.50967307e-01,\n",
       "         1.33225943e-01],\n",
       "       [-1.73673948e-01, -1.24957601e-01,  2.50967307e-01,\n",
       "         1.75297293e-03],\n",
       "       [-1.73673948e-01, -3.56360566e-01,  2.50967307e-01,\n",
       "         1.33225943e-01],\n",
       "       [ 4.32165405e-01, -3.56360566e-01,  3.07833011e-01,\n",
       "         1.33225943e-01],\n",
       "       [-9.00681170e-01, -1.28197243e+00, -4.31421141e-01,\n",
       "        -1.29719997e-01],\n",
       "       [-1.73673948e-01, -5.87763531e-01,  1.94101603e-01,\n",
       "         1.33225943e-01],\n",
       "       [ 5.53333275e-01,  5.69251294e-01,  1.27454998e+00,\n",
       "         1.71090158e+00],\n",
       "       [-5.25060772e-02, -8.19166497e-01,  7.62758643e-01,\n",
       "         9.22063763e-01],\n",
       "       [ 1.52267624e+00, -1.24957601e-01,  1.21768427e+00,\n",
       "         1.18500970e+00],\n",
       "       [ 5.53333275e-01, -3.56360566e-01,  1.04708716e+00,\n",
       "         7.90590793e-01],\n",
       "       [ 7.95669016e-01, -1.24957601e-01,  1.16081857e+00,\n",
       "         1.31648267e+00],\n",
       "       [ 2.12851559e+00, -1.24957601e-01,  1.61574420e+00,\n",
       "         1.18500970e+00],\n",
       "       [-1.14301691e+00, -1.28197243e+00,  4.21564419e-01,\n",
       "         6.59117823e-01],\n",
       "       [ 1.76501198e+00, -3.56360566e-01,  1.44514709e+00,\n",
       "         7.90590793e-01],\n",
       "       [ 1.03800476e+00, -1.28197243e+00,  1.16081857e+00,\n",
       "         7.90590793e-01],\n",
       "       [ 1.64384411e+00,  1.26346019e+00,  1.33141568e+00,\n",
       "         1.71090158e+00],\n",
       "       [ 7.95669016e-01,  3.37848329e-01,  7.62758643e-01,\n",
       "         1.05353673e+00],\n",
       "       [ 6.74501145e-01, -8.19166497e-01,  8.76490051e-01,\n",
       "         9.22063763e-01],\n",
       "       [ 1.15917263e+00, -1.24957601e-01,  9.90221459e-01,\n",
       "         1.18500970e+00],\n",
       "       [-1.73673948e-01, -1.28197243e+00,  7.05892939e-01,\n",
       "         1.05353673e+00],\n",
       "       [-5.25060772e-02, -5.87763531e-01,  7.62758643e-01,\n",
       "         1.57942861e+00],\n",
       "       [ 6.74501145e-01,  3.37848329e-01,  8.76490051e-01,\n",
       "         1.44795564e+00],\n",
       "       [ 7.95669016e-01, -1.24957601e-01,  9.90221459e-01,\n",
       "         7.90590793e-01],\n",
       "       [ 2.24968346e+00,  1.72626612e+00,  1.67260991e+00,\n",
       "         1.31648267e+00],\n",
       "       [ 2.24968346e+00, -1.05056946e+00,  1.78634131e+00,\n",
       "         1.44795564e+00],\n",
       "       [ 1.89829664e-01, -1.97618132e+00,  7.05892939e-01,\n",
       "         3.96171883e-01],\n",
       "       [ 1.28034050e+00,  3.37848329e-01,  1.10395287e+00,\n",
       "         1.44795564e+00],\n",
       "       [-2.94841818e-01, -5.87763531e-01,  6.49027235e-01,\n",
       "         1.05353673e+00],\n",
       "       [ 2.24968346e+00, -5.87763531e-01,  1.67260991e+00,\n",
       "         1.05353673e+00],\n",
       "       [ 5.53333275e-01, -8.19166497e-01,  6.49027235e-01,\n",
       "         7.90590793e-01],\n",
       "       [ 1.03800476e+00,  5.69251294e-01,  1.10395287e+00,\n",
       "         1.18500970e+00],\n",
       "       [ 1.64384411e+00,  3.37848329e-01,  1.27454998e+00,\n",
       "         7.90590793e-01],\n",
       "       [ 4.32165405e-01, -5.87763531e-01,  5.92161531e-01,\n",
       "         7.90590793e-01],\n",
       "       [ 3.10997534e-01, -1.24957601e-01,  6.49027235e-01,\n",
       "         7.90590793e-01],\n",
       "       [ 6.74501145e-01, -5.87763531e-01,  1.04708716e+00,\n",
       "         1.18500970e+00],\n",
       "       [ 1.64384411e+00, -1.24957601e-01,  1.16081857e+00,\n",
       "         5.27644853e-01],\n",
       "       [ 1.88617985e+00, -5.87763531e-01,  1.33141568e+00,\n",
       "         9.22063763e-01],\n",
       "       [ 2.49201920e+00,  1.72626612e+00,  1.50201279e+00,\n",
       "         1.05353673e+00],\n",
       "       [ 6.74501145e-01, -5.87763531e-01,  1.04708716e+00,\n",
       "         1.31648267e+00],\n",
       "       [ 5.53333275e-01, -5.87763531e-01,  7.62758643e-01,\n",
       "         3.96171883e-01],\n",
       "       [ 3.10997534e-01, -1.05056946e+00,  1.04708716e+00,\n",
       "         2.64698913e-01],\n",
       "       [ 2.24968346e+00, -1.24957601e-01,  1.33141568e+00,\n",
       "         1.44795564e+00],\n",
       "       [ 5.53333275e-01,  8.00654259e-01,  1.04708716e+00,\n",
       "         1.57942861e+00],\n",
       "       [ 6.74501145e-01,  1.06445364e-01,  9.90221459e-01,\n",
       "         7.90590793e-01],\n",
       "       [ 1.89829664e-01, -1.24957601e-01,  5.92161531e-01,\n",
       "         7.90590793e-01],\n",
       "       [ 1.28034050e+00,  1.06445364e-01,  9.33355755e-01,\n",
       "         1.18500970e+00],\n",
       "       [ 1.03800476e+00,  1.06445364e-01,  1.04708716e+00,\n",
       "         1.57942861e+00],\n",
       "       [ 1.28034050e+00,  1.06445364e-01,  7.62758643e-01,\n",
       "         1.44795564e+00],\n",
       "       [-5.25060772e-02, -8.19166497e-01,  7.62758643e-01,\n",
       "         9.22063763e-01],\n",
       "       [ 1.15917263e+00,  3.37848329e-01,  1.21768427e+00,\n",
       "         1.44795564e+00],\n",
       "       [ 1.03800476e+00,  5.69251294e-01,  1.10395287e+00,\n",
       "         1.71090158e+00],\n",
       "       [ 1.03800476e+00, -1.24957601e-01,  8.19624347e-01,\n",
       "         1.44795564e+00],\n",
       "       [ 5.53333275e-01, -1.28197243e+00,  7.05892939e-01,\n",
       "         9.22063763e-01],\n",
       "       [ 7.95669016e-01, -1.24957601e-01,  8.19624347e-01,\n",
       "         1.05353673e+00],\n",
       "       [ 4.32165405e-01,  8.00654259e-01,  9.33355755e-01,\n",
       "         1.44795564e+00],\n",
       "       [ 6.86617933e-02, -1.24957601e-01,  7.62758643e-01,\n",
       "         7.90590793e-01]])"
      ]
     },
     "execution_count": 33,
     "metadata": {},
     "output_type": "execute_result"
    }
   ],
   "source": [
    "iris_norm"
   ]
  },
  {
   "cell_type": "code",
   "execution_count": 35,
   "metadata": {
    "collapsed": true
   },
   "outputs": [
    {
     "data": {
      "text/plain": [
       "[<matplotlib.lines.Line2D at 0x28745a5aef0>,\n",
       " <matplotlib.lines.Line2D at 0x28745a6b080>,\n",
       " <matplotlib.lines.Line2D at 0x28745a6b1d0>,\n",
       " <matplotlib.lines.Line2D at 0x28745a6b320>]"
      ]
     },
     "execution_count": 35,
     "metadata": {},
     "output_type": "execute_result"
    },
    {
     "data": {
      "image/png": "[encoded data removed]",
      "text/plain": [
       "<matplotlib.figure.Figure at 0x2874572ebe0>"
      ]
     },
     "metadata": {},
     "output_type": "display_data"
    }
   ],
   "source": [
    "plt.plot(iris)"
   ]
  },
  {
   "cell_type": "code",
   "execution_count": 36,
   "metadata": {
    "collapsed": true
   },
   "outputs": [
    {
     "data": {
      "text/plain": [
       "[<matplotlib.lines.Line2D at 0x28745af9390>,\n",
       " <matplotlib.lines.Line2D at 0x28745af94e0>,\n",
       " <matplotlib.lines.Line2D at 0x28745af9630>,\n",
       " <matplotlib.lines.Line2D at 0x28745af9780>]"
      ]
     },
     "execution_count": 36,
     "metadata": {},
     "output_type": "execute_result"
    },
    {
     "data": {
      "image/png": "[encoded data removed]",
      "text/plain": [
       "<matplotlib.figure.Figure at 0x2874572eba8>"
      ]
     },
     "metadata": {},
     "output_type": "display_data"
    }
   ],
   "source": [
    "plt.plot(iris_norm)"
   ]
  },
  {
   "cell_type": "code",
   "execution_count": 7,
   "metadata": {
    "collapsed": true
   },
   "outputs": [
    {
     "data": {
      "text/plain": [
       "array([[ 0. , -1.6, -3.7, -4.9],\n",
       "       [ 0. , -1.9, -3.5, -4.7],\n",
       "       [ 0. , -1.5, -3.4, -4.5],\n",
       "       [ 0. , -1.5, -3.1, -4.4],\n",
       "       [ 0. , -1.4, -3.6, -4.8],\n",
       "       [ 0. , -1.5, -3.7, -5. ],\n",
       "       [ 0. , -1.2, -3.2, -4.3],\n",
       "       [ 0. , -1.6, -3.5, -4.8],\n",
       "       [ 0. , -1.5, -3. , -4.2],\n",
       "       [ 0. , -1.8, -3.4, -4.8],\n",
       "       [ 0. , -1.7, -3.9, -5.2],\n",
       "       [ 0. , -1.4, -3.2, -4.6],\n",
       "       [ 0. , -1.8, -3.4, -4.7],\n",
       "       [ 0. , -1.3, -3.2, -4.2],\n",
       "       [ 0. , -1.8, -4.6, -5.6],\n",
       "       [ 0. , -1.3, -4.2, -5.3],\n",
       "       [ 0. , -1.5, -4.1, -5. ],\n",
       "       [ 0. , -1.6, -3.7, -4.8],\n",
       "       [ 0. , -1.9, -4. , -5.4],\n",
       "       [ 0. , -1.3, -3.6, -4.8],\n",
       "       [ 0. , -2. , -3.7, -5.2],\n",
       "       [ 0. , -1.4, -3.6, -4.7],\n",
       "       [ 0. , -1. , -3.6, -4.4],\n",
       "       [ 0. , -1.8, -3.4, -4.6],\n",
       "       [ 0. , -1.4, -2.9, -4.6],\n",
       "       [ 0. , -2. , -3.4, -4.8],\n",
       "       [ 0. , -1.6, -3.4, -4.6],\n",
       "       [ 0. , -1.7, -3.7, -5. ],\n",
       "       [ 0. , -1.8, -3.8, -5. ],\n",
       "       [ 0. , -1.5, -3.1, -4.5],\n",
       "       [ 0. , -1.7, -3.2, -4.6],\n",
       "       [ 0. , -2. , -3.9, -5. ],\n",
       "       [ 0. , -1.1, -3.7, -5.1],\n",
       "       [ 0. , -1.3, -4.1, -5.3],\n",
       "       [ 0. , -1.8, -3.4, -4.8],\n",
       "       [ 0. , -1.8, -3.8, -4.8],\n",
       "       [ 0. , -2. , -4.2, -5.3],\n",
       "       [ 0. , -1.8, -3.4, -4.8],\n",
       "       [ 0. , -1.4, -3.1, -4.2],\n",
       "       [ 0. , -1.7, -3.6, -4.9],\n",
       "       [ 0. , -1.5, -3.7, -4.7],\n",
       "       [ 0. , -2.2, -3.2, -4.2],\n",
       "       [ 0. , -1.2, -3.1, -4.2],\n",
       "       [ 0. , -1.5, -3.4, -4.4],\n",
       "       [ 0. , -1.3, -3.2, -4.7],\n",
       "       [ 0. , -1.8, -3.4, -4.5],\n",
       "       [ 0. , -1.3, -3.5, -4.9],\n",
       "       [ 0. , -1.4, -3.2, -4.4],\n",
       "       [ 0. , -1.6, -3.8, -5.1],\n",
       "       [ 0. , -1.7, -3.6, -4.8],\n",
       "       [ 0. , -3.8, -2.3, -5.6],\n",
       "       [ 0. , -3.2, -1.9, -4.9],\n",
       "       [ 0. , -3.8, -2. , -5.4],\n",
       "       [ 0. , -3.2, -1.5, -4.2],\n",
       "       [ 0. , -3.7, -1.9, -5. ],\n",
       "       [ 0. , -2.9, -1.2, -4.4],\n",
       "       [ 0. , -3. , -1.6, -4.7],\n",
       "       [ 0. , -2.5, -1.6, -3.9],\n",
       "       [ 0. , -3.7, -2. , -5.3],\n",
       "       [ 0. , -2.5, -1.3, -3.8],\n",
       "       [ 0. , -3. , -1.5, -4. ],\n",
       "       [ 0. , -2.9, -1.7, -4.4],\n",
       "       [ 0. , -3.8, -2. , -5. ],\n",
       "       [ 0. , -3.2, -1.4, -4.7],\n",
       "       [ 0. , -2.7, -2. , -4.3],\n",
       "       [ 0. , -3.6, -2.3, -5.3],\n",
       "       [ 0. , -2.6, -1.1, -4.1],\n",
       "       [ 0. , -3.1, -1.7, -4.8],\n",
       "       [ 0. , -4. , -1.7, -4.7],\n",
       "       [ 0. , -3.1, -1.7, -4.5],\n",
       "       [ 0. , -2.7, -1.1, -4.1],\n",
       "       [ 0. , -3.3, -2.1, -4.8],\n",
       "       [ 0. , -3.8, -1.4, -4.8],\n",
       "       [ 0. , -3.3, -1.4, -4.9],\n",
       "       [ 0. , -3.5, -2.1, -5.1],\n",
       "       [ 0. , -3.6, -2.2, -5.2],\n",
       "       [ 0. , -4. , -2. , -5.4],\n",
       "       [ 0. , -3.7, -1.7, -5. ],\n",
       "       [ 0. , -3.1, -1.5, -4.5],\n",
       "       [ 0. , -3.1, -2.2, -4.7],\n",
       "       [ 0. , -3.1, -1.7, -4.4],\n",
       "       [ 0. , -3.1, -1.8, -4.5],\n",
       "       [ 0. , -3.1, -1.9, -4.6],\n",
       "       [ 0. , -3.3, -0.9, -4.4],\n",
       "       [ 0. , -2.4, -0.9, -3.9],\n",
       "       [ 0. , -2.6, -1.5, -4.4],\n",
       "       [ 0. , -3.6, -2. , -5.2],\n",
       "       [ 0. , -4. , -1.9, -5. ],\n",
       "       [ 0. , -2.6, -1.5, -4.3],\n",
       "       [ 0. , -3. , -1.5, -4.2],\n",
       "       [ 0. , -2.9, -1.1, -4.3],\n",
       "       [ 0. , -3.1, -1.5, -4.7],\n",
       "       [ 0. , -3.2, -1.8, -4.6],\n",
       "       [ 0. , -2.7, -1.7, -4. ],\n",
       "       [ 0. , -2.9, -1.4, -4.3],\n",
       "       [ 0. , -2.7, -1.5, -4.5],\n",
       "       [ 0. , -2.8, -1.5, -4.4],\n",
       "       [ 0. , -3.3, -1.9, -4.9],\n",
       "       [ 0. , -2.6, -2.1, -4. ],\n",
       "       [ 0. , -2.9, -1.6, -4.4],\n",
       "       [ 0. , -3. , -0.3, -3.8],\n",
       "       [ 0. , -3.1, -0.7, -3.9],\n",
       "       [ 0. , -4.1, -1.2, -5. ],\n",
       "       [ 0. , -3.4, -0.7, -4.5],\n",
       "       [ 0. , -3.5, -0.7, -4.3],\n",
       "       [ 0. , -4.6, -1. , -5.5],\n",
       "       [ 0. , -2.4, -0.4, -3.2],\n",
       "       [ 0. , -4.4, -1. , -5.5],\n",
       "       [ 0. , -4.2, -0.9, -4.9],\n",
       "       [ 0. , -3.6, -1.1, -4.7],\n",
       "       [ 0. , -3.3, -1.4, -4.5],\n",
       "       [ 0. , -3.7, -1.1, -4.5],\n",
       "       [ 0. , -3.8, -1.3, -4.7],\n",
       "       [ 0. , -3.2, -0.7, -3.7],\n",
       "       [ 0. , -3. , -0.7, -3.4],\n",
       "       [ 0. , -3.2, -1.1, -4.1],\n",
       "       [ 0. , -3.5, -1. , -4.7],\n",
       "       [ 0. , -3.9, -1. , -5.5],\n",
       "       [ 0. , -5.1, -0.8, -5.4],\n",
       "       [ 0. , -3.8, -1. , -4.5],\n",
       "       [ 0. , -3.7, -1.2, -4.6],\n",
       "       [ 0. , -2.8, -0.7, -3.6],\n",
       "       [ 0. , -4.9, -1. , -5.7],\n",
       "       [ 0. , -3.6, -1.4, -4.5],\n",
       "       [ 0. , -3.4, -1. , -4.6],\n",
       "       [ 0. , -4. , -1.2, -5.4],\n",
       "       [ 0. , -3.4, -1.4, -4.4],\n",
       "       [ 0. , -3.1, -1.2, -4.3],\n",
       "       [ 0. , -3.6, -0.8, -4.3],\n",
       "       [ 0. , -4.2, -1.4, -5.6],\n",
       "       [ 0. , -4.6, -1.3, -5.5],\n",
       "       [ 0. , -4.1, -1.5, -5.9],\n",
       "       [ 0. , -3.6, -0.8, -4.2],\n",
       "       [ 0. , -3.5, -1.2, -4.8],\n",
       "       [ 0. , -3.5, -0.5, -4.7],\n",
       "       [ 0. , -4.7, -1.6, -5.4],\n",
       "       [ 0. , -2.9, -0.7, -3.9],\n",
       "       [ 0. , -3.3, -0.9, -4.6],\n",
       "       [ 0. , -3. , -1.2, -4.2],\n",
       "       [ 0. , -3.8, -1.5, -4.8],\n",
       "       [ 0. , -3.6, -1.1, -4.3],\n",
       "       [ 0. , -3.8, -1.8, -4.6],\n",
       "       [ 0. , -3.1, -0.7, -3.9],\n",
       "       [ 0. , -3.6, -0.9, -4.5],\n",
       "       [ 0. , -3.4, -1. , -4.2],\n",
       "       [ 0. , -3.7, -1.5, -4.4],\n",
       "       [ 0. , -3.8, -1.3, -4.4],\n",
       "       [ 0. , -3.5, -1.3, -4.5],\n",
       "       [ 0. , -2.8, -0.8, -3.9],\n",
       "       [ 0. , -2.9, -0.8, -4.1]])"
      ]
     },
     "execution_count": 7,
     "metadata": {},
     "output_type": "execute_result"
    }
   ],
   "source": [
    "iris - iris[:,0].reshape(150,1)"
   ]
  },
  {
   "cell_type": "code",
   "execution_count": 10,
   "metadata": {
    "scrolled": true
   },
   "outputs": [
    {
     "data": {
      "text/plain": [
       "(150, 1)"
      ]
     },
     "execution_count": 10,
     "metadata": {},
     "output_type": "execute_result"
    }
   ],
   "source": [
    "iris[:,[0]].shape"
   ]
  },
  {
   "cell_type": "code",
   "execution_count": 9,
   "metadata": {
    "collapsed": true
   },
   "outputs": [
    {
     "data": {
      "text/plain": [
       "array([[ 0. , -1.6, -3.7, -4.9],\n",
       "       [ 0. , -1.9, -3.5, -4.7],\n",
       "       [ 0. , -1.5, -3.4, -4.5],\n",
       "       [ 0. , -1.5, -3.1, -4.4],\n",
       "       [ 0. , -1.4, -3.6, -4.8],\n",
       "       [ 0. , -1.5, -3.7, -5. ],\n",
       "       [ 0. , -1.2, -3.2, -4.3],\n",
       "       [ 0. , -1.6, -3.5, -4.8],\n",
       "       [ 0. , -1.5, -3. , -4.2],\n",
       "       [ 0. , -1.8, -3.4, -4.8],\n",
       "       [ 0. , -1.7, -3.9, -5.2],\n",
       "       [ 0. , -1.4, -3.2, -4.6],\n",
       "       [ 0. , -1.8, -3.4, -4.7],\n",
       "       [ 0. , -1.3, -3.2, -4.2],\n",
       "       [ 0. , -1.8, -4.6, -5.6],\n",
       "       [ 0. , -1.3, -4.2, -5.3],\n",
       "       [ 0. , -1.5, -4.1, -5. ],\n",
       "       [ 0. , -1.6, -3.7, -4.8],\n",
       "       [ 0. , -1.9, -4. , -5.4],\n",
       "       [ 0. , -1.3, -3.6, -4.8],\n",
       "       [ 0. , -2. , -3.7, -5.2],\n",
       "       [ 0. , -1.4, -3.6, -4.7],\n",
       "       [ 0. , -1. , -3.6, -4.4],\n",
       "       [ 0. , -1.8, -3.4, -4.6],\n",
       "       [ 0. , -1.4, -2.9, -4.6],\n",
       "       [ 0. , -2. , -3.4, -4.8],\n",
       "       [ 0. , -1.6, -3.4, -4.6],\n",
       "       [ 0. , -1.7, -3.7, -5. ],\n",
       "       [ 0. , -1.8, -3.8, -5. ],\n",
       "       [ 0. , -1.5, -3.1, -4.5],\n",
       "       [ 0. , -1.7, -3.2, -4.6],\n",
       "       [ 0. , -2. , -3.9, -5. ],\n",
       "       [ 0. , -1.1, -3.7, -5.1],\n",
       "       [ 0. , -1.3, -4.1, -5.3],\n",
       "       [ 0. , -1.8, -3.4, -4.8],\n",
       "       [ 0. , -1.8, -3.8, -4.8],\n",
       "       [ 0. , -2. , -4.2, -5.3],\n",
       "       [ 0. , -1.8, -3.4, -4.8],\n",
       "       [ 0. , -1.4, -3.1, -4.2],\n",
       "       [ 0. , -1.7, -3.6, -4.9],\n",
       "       [ 0. , -1.5, -3.7, -4.7],\n",
       "       [ 0. , -2.2, -3.2, -4.2],\n",
       "       [ 0. , -1.2, -3.1, -4.2],\n",
       "       [ 0. , -1.5, -3.4, -4.4],\n",
       "       [ 0. , -1.3, -3.2, -4.7],\n",
       "       [ 0. , -1.8, -3.4, -4.5],\n",
       "       [ 0. , -1.3, -3.5, -4.9],\n",
       "       [ 0. , -1.4, -3.2, -4.4],\n",
       "       [ 0. , -1.6, -3.8, -5.1],\n",
       "       [ 0. , -1.7, -3.6, -4.8],\n",
       "       [ 0. , -3.8, -2.3, -5.6],\n",
       "       [ 0. , -3.2, -1.9, -4.9],\n",
       "       [ 0. , -3.8, -2. , -5.4],\n",
       "       [ 0. , -3.2, -1.5, -4.2],\n",
       "       [ 0. , -3.7, -1.9, -5. ],\n",
       "       [ 0. , -2.9, -1.2, -4.4],\n",
       "       [ 0. , -3. , -1.6, -4.7],\n",
       "       [ 0. , -2.5, -1.6, -3.9],\n",
       "       [ 0. , -3.7, -2. , -5.3],\n",
       "       [ 0. , -2.5, -1.3, -3.8],\n",
       "       [ 0. , -3. , -1.5, -4. ],\n",
       "       [ 0. , -2.9, -1.7, -4.4],\n",
       "       [ 0. , -3.8, -2. , -5. ],\n",
       "       [ 0. , -3.2, -1.4, -4.7],\n",
       "       [ 0. , -2.7, -2. , -4.3],\n",
       "       [ 0. , -3.6, -2.3, -5.3],\n",
       "       [ 0. , -2.6, -1.1, -4.1],\n",
       "       [ 0. , -3.1, -1.7, -4.8],\n",
       "       [ 0. , -4. , -1.7, -4.7],\n",
       "       [ 0. , -3.1, -1.7, -4.5],\n",
       "       [ 0. , -2.7, -1.1, -4.1],\n",
       "       [ 0. , -3.3, -2.1, -4.8],\n",
       "       [ 0. , -3.8, -1.4, -4.8],\n",
       "       [ 0. , -3.3, -1.4, -4.9],\n",
       "       [ 0. , -3.5, -2.1, -5.1],\n",
       "       [ 0. , -3.6, -2.2, -5.2],\n",
       "       [ 0. , -4. , -2. , -5.4],\n",
       "       [ 0. , -3.7, -1.7, -5. ],\n",
       "       [ 0. , -3.1, -1.5, -4.5],\n",
       "       [ 0. , -3.1, -2.2, -4.7],\n",
       "       [ 0. , -3.1, -1.7, -4.4],\n",
       "       [ 0. , -3.1, -1.8, -4.5],\n",
       "       [ 0. , -3.1, -1.9, -4.6],\n",
       "       [ 0. , -3.3, -0.9, -4.4],\n",
       "       [ 0. , -2.4, -0.9, -3.9],\n",
       "       [ 0. , -2.6, -1.5, -4.4],\n",
       "       [ 0. , -3.6, -2. , -5.2],\n",
       "       [ 0. , -4. , -1.9, -5. ],\n",
       "       [ 0. , -2.6, -1.5, -4.3],\n",
       "       [ 0. , -3. , -1.5, -4.2],\n",
       "       [ 0. , -2.9, -1.1, -4.3],\n",
       "       [ 0. , -3.1, -1.5, -4.7],\n",
       "       [ 0. , -3.2, -1.8, -4.6],\n",
       "       [ 0. , -2.7, -1.7, -4. ],\n",
       "       [ 0. , -2.9, -1.4, -4.3],\n",
       "       [ 0. , -2.7, -1.5, -4.5],\n",
       "       [ 0. , -2.8, -1.5, -4.4],\n",
       "       [ 0. , -3.3, -1.9, -4.9],\n",
       "       [ 0. , -2.6, -2.1, -4. ],\n",
       "       [ 0. , -2.9, -1.6, -4.4],\n",
       "       [ 0. , -3. , -0.3, -3.8],\n",
       "       [ 0. , -3.1, -0.7, -3.9],\n",
       "       [ 0. , -4.1, -1.2, -5. ],\n",
       "       [ 0. , -3.4, -0.7, -4.5],\n",
       "       [ 0. , -3.5, -0.7, -4.3],\n",
       "       [ 0. , -4.6, -1. , -5.5],\n",
       "       [ 0. , -2.4, -0.4, -3.2],\n",
       "       [ 0. , -4.4, -1. , -5.5],\n",
       "       [ 0. , -4.2, -0.9, -4.9],\n",
       "       [ 0. , -3.6, -1.1, -4.7],\n",
       "       [ 0. , -3.3, -1.4, -4.5],\n",
       "       [ 0. , -3.7, -1.1, -4.5],\n",
       "       [ 0. , -3.8, -1.3, -4.7],\n",
       "       [ 0. , -3.2, -0.7, -3.7],\n",
       "       [ 0. , -3. , -0.7, -3.4],\n",
       "       [ 0. , -3.2, -1.1, -4.1],\n",
       "       [ 0. , -3.5, -1. , -4.7],\n",
       "       [ 0. , -3.9, -1. , -5.5],\n",
       "       [ 0. , -5.1, -0.8, -5.4],\n",
       "       [ 0. , -3.8, -1. , -4.5],\n",
       "       [ 0. , -3.7, -1.2, -4.6],\n",
       "       [ 0. , -2.8, -0.7, -3.6],\n",
       "       [ 0. , -4.9, -1. , -5.7],\n",
       "       [ 0. , -3.6, -1.4, -4.5],\n",
       "       [ 0. , -3.4, -1. , -4.6],\n",
       "       [ 0. , -4. , -1.2, -5.4],\n",
       "       [ 0. , -3.4, -1.4, -4.4],\n",
       "       [ 0. , -3.1, -1.2, -4.3],\n",
       "       [ 0. , -3.6, -0.8, -4.3],\n",
       "       [ 0. , -4.2, -1.4, -5.6],\n",
       "       [ 0. , -4.6, -1.3, -5.5],\n",
       "       [ 0. , -4.1, -1.5, -5.9],\n",
       "       [ 0. , -3.6, -0.8, -4.2],\n",
       "       [ 0. , -3.5, -1.2, -4.8],\n",
       "       [ 0. , -3.5, -0.5, -4.7],\n",
       "       [ 0. , -4.7, -1.6, -5.4],\n",
       "       [ 0. , -2.9, -0.7, -3.9],\n",
       "       [ 0. , -3.3, -0.9, -4.6],\n",
       "       [ 0. , -3. , -1.2, -4.2],\n",
       "       [ 0. , -3.8, -1.5, -4.8],\n",
       "       [ 0. , -3.6, -1.1, -4.3],\n",
       "       [ 0. , -3.8, -1.8, -4.6],\n",
       "       [ 0. , -3.1, -0.7, -3.9],\n",
       "       [ 0. , -3.6, -0.9, -4.5],\n",
       "       [ 0. , -3.4, -1. , -4.2],\n",
       "       [ 0. , -3.7, -1.5, -4.4],\n",
       "       [ 0. , -3.8, -1.3, -4.4],\n",
       "       [ 0. , -3.5, -1.3, -4.5],\n",
       "       [ 0. , -2.8, -0.8, -3.9],\n",
       "       [ 0. , -2.9, -0.8, -4.1]])"
      ]
     },
     "execution_count": 9,
     "metadata": {},
     "output_type": "execute_result"
    }
   ],
   "source": [
    "# 팬시색인\n",
    "iris - iris[:,[0]]"
   ]
  },
  {
   "cell_type": "code",
   "execution_count": 15,
   "metadata": {},
   "outputs": [
    {
     "data": {
      "text/plain": [
       "(1, 4)"
      ]
     },
     "execution_count": 15,
     "metadata": {},
     "output_type": "execute_result"
    }
   ],
   "source": [
    "iris[[0]]\n",
    "iris[[0]].shape"
   ]
  },
  {
   "cell_type": "markdown",
   "metadata": {},
   "source": [
    "## 통계함수(9/15)\n",
    "- min(), max()\n",
    "- sum()\n",
    "- mean(), std()\n",
    "- 표준편차의 제곱이 분산이다\n",
    "\n",
    "##### 빅데이터에서 많이 쓰이는 함수\n",
    "- map()\n",
    "> 일대일 변환 ex) 환산점수(성적 4.5 or 4.3 기준), 평균, 석차 등 변환된 속성들(속성이 새로 생김)\n",
    "- reduce()\n",
    "> 대표하는 값을 새로 뽑아낸다"
   ]
  },
  {
   "cell_type": "code",
   "execution_count": 18,
   "metadata": {},
   "outputs": [
    {
     "data": {
      "text/plain": [
       "array([1, 2, 3, 4, 5])"
      ]
     },
     "execution_count": 18,
     "metadata": {},
     "output_type": "execute_result"
    }
   ],
   "source": [
    "a=np.array([1,2,3,4,5])\n",
    "a"
   ]
  },
  {
   "cell_type": "code",
   "execution_count": 19,
   "metadata": {},
   "outputs": [],
   "source": [
    "m=a.mean()"
   ]
  },
  {
   "cell_type": "code",
   "execution_count": 20,
   "metadata": {},
   "outputs": [
    {
     "data": {
      "text/plain": [
       "array([-2., -1.,  0.,  1.,  2.])"
      ]
     },
     "execution_count": 20,
     "metadata": {},
     "output_type": "execute_result"
    }
   ],
   "source": [
    "a-m"
   ]
  },
  {
   "cell_type": "code",
   "execution_count": 21,
   "metadata": {},
   "outputs": [],
   "source": [
    "s=a.std()"
   ]
  },
  {
   "cell_type": "code",
   "execution_count": 22,
   "metadata": {},
   "outputs": [
    {
     "data": {
      "text/plain": [
       "array([-1.41421356, -0.70710678,  0.        ,  0.70710678,  1.41421356])"
      ]
     },
     "execution_count": 22,
     "metadata": {},
     "output_type": "execute_result"
    }
   ],
   "source": [
    "a2 = (a-m)/s\n",
    "a2"
   ]
  },
  {
   "cell_type": "markdown",
   "metadata": {},
   "source": [
    "##### iris로 사칙연산\n",
    "- axis=0 : 옆으로 계산\n",
    "- axis=1 : 밑으로 계산"
   ]
  },
  {
   "cell_type": "code",
   "execution_count": null,
   "metadata": {},
   "outputs": [],
   "source": [
    "x=iris"
   ]
  },
  {
   "cell_type": "code",
   "execution_count": 25,
   "metadata": {},
   "outputs": [
    {
     "data": {
      "text/plain": [
       "array([5.84333333, 3.054     , 3.75866667, 1.19866667])"
      ]
     },
     "execution_count": 25,
     "metadata": {},
     "output_type": "execute_result"
    }
   ],
   "source": [
    "x.mean(axis=0)"
   ]
  },
  {
   "cell_type": "code",
   "execution_count": 26,
   "metadata": {
    "collapsed": true
   },
   "outputs": [
    {
     "data": {
      "text/plain": [
       "array([[-7.43333333e-01,  4.46000000e-01, -2.35866667e+00,\n",
       "        -9.98666667e-01],\n",
       "       [-9.43333333e-01, -5.40000000e-02, -2.35866667e+00,\n",
       "        -9.98666667e-01],\n",
       "       [-1.14333333e+00,  1.46000000e-01, -2.45866667e+00,\n",
       "        -9.98666667e-01],\n",
       "       [-1.24333333e+00,  4.60000000e-02, -2.25866667e+00,\n",
       "        -9.98666667e-01],\n",
       "       [-8.43333333e-01,  5.46000000e-01, -2.35866667e+00,\n",
       "        -9.98666667e-01],\n",
       "       [-4.43333333e-01,  8.46000000e-01, -2.05866667e+00,\n",
       "        -7.98666667e-01],\n",
       "       [-1.24333333e+00,  3.46000000e-01, -2.35866667e+00,\n",
       "        -8.98666667e-01],\n",
       "       [-8.43333333e-01,  3.46000000e-01, -2.25866667e+00,\n",
       "        -9.98666667e-01],\n",
       "       [-1.44333333e+00, -1.54000000e-01, -2.35866667e+00,\n",
       "        -9.98666667e-01],\n",
       "       [-9.43333333e-01,  4.60000000e-02, -2.25866667e+00,\n",
       "        -1.09866667e+00],\n",
       "       [-4.43333333e-01,  6.46000000e-01, -2.25866667e+00,\n",
       "        -9.98666667e-01],\n",
       "       [-1.04333333e+00,  3.46000000e-01, -2.15866667e+00,\n",
       "        -9.98666667e-01],\n",
       "       [-1.04333333e+00, -5.40000000e-02, -2.35866667e+00,\n",
       "        -1.09866667e+00],\n",
       "       [-1.54333333e+00, -5.40000000e-02, -2.65866667e+00,\n",
       "        -1.09866667e+00],\n",
       "       [-4.33333333e-02,  9.46000000e-01, -2.55866667e+00,\n",
       "        -9.98666667e-01],\n",
       "       [-1.43333333e-01,  1.34600000e+00, -2.25866667e+00,\n",
       "        -7.98666667e-01],\n",
       "       [-4.43333333e-01,  8.46000000e-01, -2.45866667e+00,\n",
       "        -7.98666667e-01],\n",
       "       [-7.43333333e-01,  4.46000000e-01, -2.35866667e+00,\n",
       "        -8.98666667e-01],\n",
       "       [-1.43333333e-01,  7.46000000e-01, -2.05866667e+00,\n",
       "        -8.98666667e-01],\n",
       "       [-7.43333333e-01,  7.46000000e-01, -2.25866667e+00,\n",
       "        -8.98666667e-01],\n",
       "       [-4.43333333e-01,  3.46000000e-01, -2.05866667e+00,\n",
       "        -9.98666667e-01],\n",
       "       [-7.43333333e-01,  6.46000000e-01, -2.25866667e+00,\n",
       "        -7.98666667e-01],\n",
       "       [-1.24333333e+00,  5.46000000e-01, -2.75866667e+00,\n",
       "        -9.98666667e-01],\n",
       "       [-7.43333333e-01,  2.46000000e-01, -2.05866667e+00,\n",
       "        -6.98666667e-01],\n",
       "       [-1.04333333e+00,  3.46000000e-01, -1.85866667e+00,\n",
       "        -9.98666667e-01],\n",
       "       [-8.43333333e-01, -5.40000000e-02, -2.15866667e+00,\n",
       "        -9.98666667e-01],\n",
       "       [-8.43333333e-01,  3.46000000e-01, -2.15866667e+00,\n",
       "        -7.98666667e-01],\n",
       "       [-6.43333333e-01,  4.46000000e-01, -2.25866667e+00,\n",
       "        -9.98666667e-01],\n",
       "       [-6.43333333e-01,  3.46000000e-01, -2.35866667e+00,\n",
       "        -9.98666667e-01],\n",
       "       [-1.14333333e+00,  1.46000000e-01, -2.15866667e+00,\n",
       "        -9.98666667e-01],\n",
       "       [-1.04333333e+00,  4.60000000e-02, -2.15866667e+00,\n",
       "        -9.98666667e-01],\n",
       "       [-4.43333333e-01,  3.46000000e-01, -2.25866667e+00,\n",
       "        -7.98666667e-01],\n",
       "       [-6.43333333e-01,  1.04600000e+00, -2.25866667e+00,\n",
       "        -1.09866667e+00],\n",
       "       [-3.43333333e-01,  1.14600000e+00, -2.35866667e+00,\n",
       "        -9.98666667e-01],\n",
       "       [-9.43333333e-01,  4.60000000e-02, -2.25866667e+00,\n",
       "        -1.09866667e+00],\n",
       "       [-8.43333333e-01,  1.46000000e-01, -2.55866667e+00,\n",
       "        -9.98666667e-01],\n",
       "       [-3.43333333e-01,  4.46000000e-01, -2.45866667e+00,\n",
       "        -9.98666667e-01],\n",
       "       [-9.43333333e-01,  4.60000000e-02, -2.25866667e+00,\n",
       "        -1.09866667e+00],\n",
       "       [-1.44333333e+00, -5.40000000e-02, -2.45866667e+00,\n",
       "        -9.98666667e-01],\n",
       "       [-7.43333333e-01,  3.46000000e-01, -2.25866667e+00,\n",
       "        -9.98666667e-01],\n",
       "       [-8.43333333e-01,  4.46000000e-01, -2.45866667e+00,\n",
       "        -8.98666667e-01],\n",
       "       [-1.34333333e+00, -7.54000000e-01, -2.45866667e+00,\n",
       "        -8.98666667e-01],\n",
       "       [-1.44333333e+00,  1.46000000e-01, -2.45866667e+00,\n",
       "        -9.98666667e-01],\n",
       "       [-8.43333333e-01,  4.46000000e-01, -2.15866667e+00,\n",
       "        -5.98666667e-01],\n",
       "       [-7.43333333e-01,  7.46000000e-01, -1.85866667e+00,\n",
       "        -7.98666667e-01],\n",
       "       [-1.04333333e+00, -5.40000000e-02, -2.35866667e+00,\n",
       "        -8.98666667e-01],\n",
       "       [-7.43333333e-01,  7.46000000e-01, -2.15866667e+00,\n",
       "        -9.98666667e-01],\n",
       "       [-1.24333333e+00,  1.46000000e-01, -2.35866667e+00,\n",
       "        -9.98666667e-01],\n",
       "       [-5.43333333e-01,  6.46000000e-01, -2.25866667e+00,\n",
       "        -9.98666667e-01],\n",
       "       [-8.43333333e-01,  2.46000000e-01, -2.35866667e+00,\n",
       "        -9.98666667e-01],\n",
       "       [ 1.15666667e+00,  1.46000000e-01,  9.41333333e-01,\n",
       "         2.01333333e-01],\n",
       "       [ 5.56666667e-01,  1.46000000e-01,  7.41333333e-01,\n",
       "         3.01333333e-01],\n",
       "       [ 1.05666667e+00,  4.60000000e-02,  1.14133333e+00,\n",
       "         3.01333333e-01],\n",
       "       [-3.43333333e-01, -7.54000000e-01,  2.41333333e-01,\n",
       "         1.01333333e-01],\n",
       "       [ 6.56666667e-01, -2.54000000e-01,  8.41333333e-01,\n",
       "         3.01333333e-01],\n",
       "       [-1.43333333e-01, -2.54000000e-01,  7.41333333e-01,\n",
       "         1.01333333e-01],\n",
       "       [ 4.56666667e-01,  2.46000000e-01,  9.41333333e-01,\n",
       "         4.01333333e-01],\n",
       "       [-9.43333333e-01, -6.54000000e-01, -4.58666667e-01,\n",
       "        -1.98666667e-01],\n",
       "       [ 7.56666667e-01, -1.54000000e-01,  8.41333333e-01,\n",
       "         1.01333333e-01],\n",
       "       [-6.43333333e-01, -3.54000000e-01,  1.41333333e-01,\n",
       "         2.01333333e-01],\n",
       "       [-8.43333333e-01, -1.05400000e+00, -2.58666667e-01,\n",
       "        -1.98666667e-01],\n",
       "       [ 5.66666667e-02, -5.40000000e-02,  4.41333333e-01,\n",
       "         3.01333333e-01],\n",
       "       [ 1.56666667e-01, -8.54000000e-01,  2.41333333e-01,\n",
       "        -1.98666667e-01],\n",
       "       [ 2.56666667e-01, -1.54000000e-01,  9.41333333e-01,\n",
       "         2.01333333e-01],\n",
       "       [-2.43333333e-01, -1.54000000e-01, -1.58666667e-01,\n",
       "         1.01333333e-01],\n",
       "       [ 8.56666667e-01,  4.60000000e-02,  6.41333333e-01,\n",
       "         2.01333333e-01],\n",
       "       [-2.43333333e-01, -5.40000000e-02,  7.41333333e-01,\n",
       "         3.01333333e-01],\n",
       "       [-4.33333333e-02, -3.54000000e-01,  3.41333333e-01,\n",
       "        -1.98666667e-01],\n",
       "       [ 3.56666667e-01, -8.54000000e-01,  7.41333333e-01,\n",
       "         3.01333333e-01],\n",
       "       [-2.43333333e-01, -5.54000000e-01,  1.41333333e-01,\n",
       "        -9.86666667e-02],\n",
       "       [ 5.66666667e-02,  1.46000000e-01,  1.04133333e+00,\n",
       "         6.01333333e-01],\n",
       "       [ 2.56666667e-01, -2.54000000e-01,  2.41333333e-01,\n",
       "         1.01333333e-01],\n",
       "       [ 4.56666667e-01, -5.54000000e-01,  1.14133333e+00,\n",
       "         3.01333333e-01],\n",
       "       [ 2.56666667e-01, -2.54000000e-01,  9.41333333e-01,\n",
       "         1.33333333e-03],\n",
       "       [ 5.56666667e-01, -1.54000000e-01,  5.41333333e-01,\n",
       "         1.01333333e-01],\n",
       "       [ 7.56666667e-01, -5.40000000e-02,  6.41333333e-01,\n",
       "         2.01333333e-01],\n",
       "       [ 9.56666667e-01, -2.54000000e-01,  1.04133333e+00,\n",
       "         2.01333333e-01],\n",
       "       [ 8.56666667e-01, -5.40000000e-02,  1.24133333e+00,\n",
       "         5.01333333e-01],\n",
       "       [ 1.56666667e-01, -1.54000000e-01,  7.41333333e-01,\n",
       "         3.01333333e-01],\n",
       "       [-1.43333333e-01, -4.54000000e-01, -2.58666667e-01,\n",
       "        -1.98666667e-01],\n",
       "       [-3.43333333e-01, -6.54000000e-01,  4.13333333e-02,\n",
       "        -9.86666667e-02],\n",
       "       [-3.43333333e-01, -6.54000000e-01, -5.86666667e-02,\n",
       "        -1.98666667e-01],\n",
       "       [-4.33333333e-02, -3.54000000e-01,  1.41333333e-01,\n",
       "         1.33333333e-03],\n",
       "       [ 1.56666667e-01, -3.54000000e-01,  1.34133333e+00,\n",
       "         4.01333333e-01],\n",
       "       [-4.43333333e-01, -5.40000000e-02,  7.41333333e-01,\n",
       "         3.01333333e-01],\n",
       "       [ 1.56666667e-01,  3.46000000e-01,  7.41333333e-01,\n",
       "         4.01333333e-01],\n",
       "       [ 8.56666667e-01,  4.60000000e-02,  9.41333333e-01,\n",
       "         3.01333333e-01],\n",
       "       [ 4.56666667e-01, -7.54000000e-01,  6.41333333e-01,\n",
       "         1.01333333e-01],\n",
       "       [-2.43333333e-01, -5.40000000e-02,  3.41333333e-01,\n",
       "         1.01333333e-01],\n",
       "       [-3.43333333e-01, -5.54000000e-01,  2.41333333e-01,\n",
       "         1.01333333e-01],\n",
       "       [-3.43333333e-01, -4.54000000e-01,  6.41333333e-01,\n",
       "         1.33333333e-03],\n",
       "       [ 2.56666667e-01, -5.40000000e-02,  8.41333333e-01,\n",
       "         2.01333333e-01],\n",
       "       [-4.33333333e-02, -4.54000000e-01,  2.41333333e-01,\n",
       "         1.33333333e-03],\n",
       "       [-8.43333333e-01, -7.54000000e-01, -4.58666667e-01,\n",
       "        -1.98666667e-01],\n",
       "       [-2.43333333e-01, -3.54000000e-01,  4.41333333e-01,\n",
       "         1.01333333e-01],\n",
       "       [-1.43333333e-01, -5.40000000e-02,  4.41333333e-01,\n",
       "         1.33333333e-03],\n",
       "       [-1.43333333e-01, -1.54000000e-01,  4.41333333e-01,\n",
       "         1.01333333e-01],\n",
       "       [ 3.56666667e-01, -1.54000000e-01,  5.41333333e-01,\n",
       "         1.01333333e-01],\n",
       "       [-7.43333333e-01, -5.54000000e-01, -7.58666667e-01,\n",
       "        -9.86666667e-02],\n",
       "       [-1.43333333e-01, -2.54000000e-01,  3.41333333e-01,\n",
       "         1.01333333e-01],\n",
       "       [ 4.56666667e-01,  2.46000000e-01,  2.24133333e+00,\n",
       "         1.30133333e+00],\n",
       "       [-4.33333333e-02, -3.54000000e-01,  1.34133333e+00,\n",
       "         7.01333333e-01],\n",
       "       [ 1.25666667e+00, -5.40000000e-02,  2.14133333e+00,\n",
       "         9.01333333e-01],\n",
       "       [ 4.56666667e-01, -1.54000000e-01,  1.84133333e+00,\n",
       "         6.01333333e-01],\n",
       "       [ 6.56666667e-01, -5.40000000e-02,  2.04133333e+00,\n",
       "         1.00133333e+00],\n",
       "       [ 1.75666667e+00, -5.40000000e-02,  2.84133333e+00,\n",
       "         9.01333333e-01],\n",
       "       [-9.43333333e-01, -5.54000000e-01,  7.41333333e-01,\n",
       "         5.01333333e-01],\n",
       "       [ 1.45666667e+00, -1.54000000e-01,  2.54133333e+00,\n",
       "         6.01333333e-01],\n",
       "       [ 8.56666667e-01, -5.54000000e-01,  2.04133333e+00,\n",
       "         6.01333333e-01],\n",
       "       [ 1.35666667e+00,  5.46000000e-01,  2.34133333e+00,\n",
       "         1.30133333e+00],\n",
       "       [ 6.56666667e-01,  1.46000000e-01,  1.34133333e+00,\n",
       "         8.01333333e-01],\n",
       "       [ 5.56666667e-01, -3.54000000e-01,  1.54133333e+00,\n",
       "         7.01333333e-01],\n",
       "       [ 9.56666667e-01, -5.40000000e-02,  1.74133333e+00,\n",
       "         9.01333333e-01],\n",
       "       [-1.43333333e-01, -5.54000000e-01,  1.24133333e+00,\n",
       "         8.01333333e-01],\n",
       "       [-4.33333333e-02, -2.54000000e-01,  1.34133333e+00,\n",
       "         1.20133333e+00],\n",
       "       [ 5.56666667e-01,  1.46000000e-01,  1.54133333e+00,\n",
       "         1.10133333e+00],\n",
       "       [ 6.56666667e-01, -5.40000000e-02,  1.74133333e+00,\n",
       "         6.01333333e-01],\n",
       "       [ 1.85666667e+00,  7.46000000e-01,  2.94133333e+00,\n",
       "         1.00133333e+00],\n",
       "       [ 1.85666667e+00, -4.54000000e-01,  3.14133333e+00,\n",
       "         1.10133333e+00],\n",
       "       [ 1.56666667e-01, -8.54000000e-01,  1.24133333e+00,\n",
       "         3.01333333e-01],\n",
       "       [ 1.05666667e+00,  1.46000000e-01,  1.94133333e+00,\n",
       "         1.10133333e+00],\n",
       "       [-2.43333333e-01, -2.54000000e-01,  1.14133333e+00,\n",
       "         8.01333333e-01],\n",
       "       [ 1.85666667e+00, -2.54000000e-01,  2.94133333e+00,\n",
       "         8.01333333e-01],\n",
       "       [ 4.56666667e-01, -3.54000000e-01,  1.14133333e+00,\n",
       "         6.01333333e-01],\n",
       "       [ 8.56666667e-01,  2.46000000e-01,  1.94133333e+00,\n",
       "         9.01333333e-01],\n",
       "       [ 1.35666667e+00,  1.46000000e-01,  2.24133333e+00,\n",
       "         6.01333333e-01],\n",
       "       [ 3.56666667e-01, -2.54000000e-01,  1.04133333e+00,\n",
       "         6.01333333e-01],\n",
       "       [ 2.56666667e-01, -5.40000000e-02,  1.14133333e+00,\n",
       "         6.01333333e-01],\n",
       "       [ 5.56666667e-01, -2.54000000e-01,  1.84133333e+00,\n",
       "         9.01333333e-01],\n",
       "       [ 1.35666667e+00, -5.40000000e-02,  2.04133333e+00,\n",
       "         4.01333333e-01],\n",
       "       [ 1.55666667e+00, -2.54000000e-01,  2.34133333e+00,\n",
       "         7.01333333e-01],\n",
       "       [ 2.05666667e+00,  7.46000000e-01,  2.64133333e+00,\n",
       "         8.01333333e-01],\n",
       "       [ 5.56666667e-01, -2.54000000e-01,  1.84133333e+00,\n",
       "         1.00133333e+00],\n",
       "       [ 4.56666667e-01, -2.54000000e-01,  1.34133333e+00,\n",
       "         3.01333333e-01],\n",
       "       [ 2.56666667e-01, -4.54000000e-01,  1.84133333e+00,\n",
       "         2.01333333e-01],\n",
       "       [ 1.85666667e+00, -5.40000000e-02,  2.34133333e+00,\n",
       "         1.10133333e+00],\n",
       "       [ 4.56666667e-01,  3.46000000e-01,  1.84133333e+00,\n",
       "         1.20133333e+00],\n",
       "       [ 5.56666667e-01,  4.60000000e-02,  1.74133333e+00,\n",
       "         6.01333333e-01],\n",
       "       [ 1.56666667e-01, -5.40000000e-02,  1.04133333e+00,\n",
       "         6.01333333e-01],\n",
       "       [ 1.05666667e+00,  4.60000000e-02,  1.64133333e+00,\n",
       "         9.01333333e-01],\n",
       "       [ 8.56666667e-01,  4.60000000e-02,  1.84133333e+00,\n",
       "         1.20133333e+00],\n",
       "       [ 1.05666667e+00,  4.60000000e-02,  1.34133333e+00,\n",
       "         1.10133333e+00],\n",
       "       [-4.33333333e-02, -3.54000000e-01,  1.34133333e+00,\n",
       "         7.01333333e-01],\n",
       "       [ 9.56666667e-01,  1.46000000e-01,  2.14133333e+00,\n",
       "         1.10133333e+00],\n",
       "       [ 8.56666667e-01,  2.46000000e-01,  1.94133333e+00,\n",
       "         1.30133333e+00],\n",
       "       [ 8.56666667e-01, -5.40000000e-02,  1.44133333e+00,\n",
       "         1.10133333e+00],\n",
       "       [ 4.56666667e-01, -5.54000000e-01,  1.24133333e+00,\n",
       "         7.01333333e-01],\n",
       "       [ 6.56666667e-01, -5.40000000e-02,  1.44133333e+00,\n",
       "         8.01333333e-01],\n",
       "       [ 3.56666667e-01,  3.46000000e-01,  1.64133333e+00,\n",
       "         1.10133333e+00],\n",
       "       [ 5.66666667e-02, -5.40000000e-02,  1.34133333e+00,\n",
       "         6.01333333e-01]])"
      ]
     },
     "execution_count": 26,
     "metadata": {},
     "output_type": "execute_result"
    }
   ],
   "source": [
    "# 각 속성별 평균을 한번에 뺌\n",
    "x - x.mean(axis=0)"
   ]
  },
  {
   "cell_type": "code",
   "execution_count": 28,
   "metadata": {},
   "outputs": [],
   "source": [
    "x_norm = (x-x.mean(axis=0))/x.std(axis=0)"
   ]
  },
  {
   "cell_type": "code",
   "execution_count": 29,
   "metadata": {},
   "outputs": [
    {
     "data": {
      "text/plain": [
       "array([-1.69031455e-15, -1.63702385e-15, -1.48251781e-15, -1.62314606e-15])"
      ]
     },
     "execution_count": 29,
     "metadata": {},
     "output_type": "execute_result"
    }
   ],
   "source": [
    "x_norm.mean(axis=0)"
   ]
  },
  {
   "cell_type": "code",
   "execution_count": 30,
   "metadata": {},
   "outputs": [
    {
     "data": {
      "text/plain": [
       "[<matplotlib.lines.Line2D at 0x193c7dcd3c8>,\n",
       " <matplotlib.lines.Line2D at 0x193c7dcd518>,\n",
       " <matplotlib.lines.Line2D at 0x193c7dcd668>,\n",
       " <matplotlib.lines.Line2D at 0x193c7dcd7b8>]"
      ]
     },
     "execution_count": 30,
     "metadata": {},
     "output_type": "execute_result"
    },
    {
     "data": {
      "image/png": "[encoded data removed]",
      "text/plain": [
       "<matplotlib.figure.Figure at 0x193c7d35dd8>"
      ]
     },
     "metadata": {},
     "output_type": "display_data"
    }
   ],
   "source": [
    "plt.plot(x)"
   ]
  },
  {
   "cell_type": "code",
   "execution_count": 31,
   "metadata": {},
   "outputs": [
    {
     "data": {
      "text/plain": [
       "[<matplotlib.lines.Line2D at 0x193c811ba20>,\n",
       " <matplotlib.lines.Line2D at 0x193c811bb70>,\n",
       " <matplotlib.lines.Line2D at 0x193c811bcc0>,\n",
       " <matplotlib.lines.Line2D at 0x193c811be10>]"
      ]
     },
     "execution_count": 31,
     "metadata": {},
     "output_type": "execute_result"
    },
    {
     "data": {
      "image/png": "[encoded data removed]",
      "text/plain": [
       "<matplotlib.figure.Figure at 0x193c7ea7438>"
      ]
     },
     "metadata": {},
     "output_type": "display_data"
    }
   ],
   "source": [
    "plt.plot(x_norm)"
   ]
  },
  {
   "cell_type": "code",
   "execution_count": 27,
   "metadata": {},
   "outputs": [
    {
     "data": {
      "text/plain": [
       "array([[5., 5., 5.],\n",
       "       [5., 5., 5.],\n",
       "       [5., 5., 5.],\n",
       "       [5., 5., 5.],\n",
       "       [5., 5., 5.]])"
      ]
     },
     "execution_count": 27,
     "metadata": {},
     "output_type": "execute_result"
    }
   ],
   "source": [
    "a=np.ones([5,3])*5\n",
    "a"
   ]
  },
  {
   "cell_type": "code",
   "execution_count": 34,
   "metadata": {
    "scrolled": true
   },
   "outputs": [
    {
     "name": "stdout",
     "output_type": "stream",
     "text": [
      "(8, 8, 3)\n"
     ]
    },
    {
     "data": {
      "text/plain": [
       "array([[[  0,   1,   2],\n",
       "        [  3,   4,   5],\n",
       "        [  6,   7,   8],\n",
       "        [  9,  10,  11],\n",
       "        [ 12,  13,  14],\n",
       "        [ 15,  16,  17],\n",
       "        [ 18,  19,  20],\n",
       "        [ 21,  22,  23]],\n",
       "\n",
       "       [[ 24,  25,  26],\n",
       "        [ 27,  28,  29],\n",
       "        [ 30,  31,  32],\n",
       "        [ 33,  34,  35],\n",
       "        [ 36,  37,  38],\n",
       "        [ 39,  40,  41],\n",
       "        [ 42,  43,  44],\n",
       "        [ 45,  46,  47]],\n",
       "\n",
       "       [[ 48,  49,  50],\n",
       "        [ 51,  52,  53],\n",
       "        [ 54,  55,  56],\n",
       "        [ 57,  58,  59],\n",
       "        [ 60,  61,  62],\n",
       "        [ 63,  64,  65],\n",
       "        [ 66,  67,  68],\n",
       "        [ 69,  70,  71]],\n",
       "\n",
       "       [[ 72,  73,  74],\n",
       "        [ 75,  76,  77],\n",
       "        [ 78,  79,  80],\n",
       "        [ 81,  82,  83],\n",
       "        [ 84,  85,  86],\n",
       "        [ 87,  88,  89],\n",
       "        [ 90,  91,  92],\n",
       "        [ 93,  94,  95]],\n",
       "\n",
       "       [[ 96,  97,  98],\n",
       "        [ 99, 100, 101],\n",
       "        [102, 103, 104],\n",
       "        [105, 106, 107],\n",
       "        [108, 109, 110],\n",
       "        [111, 112, 113],\n",
       "        [114, 115, 116],\n",
       "        [117, 118, 119]],\n",
       "\n",
       "       [[120, 121, 122],\n",
       "        [123, 124, 125],\n",
       "        [126, 127, 128],\n",
       "        [129, 130, 131],\n",
       "        [132, 133, 134],\n",
       "        [135, 136, 137],\n",
       "        [138, 139, 140],\n",
       "        [141, 142, 143]],\n",
       "\n",
       "       [[144, 145, 146],\n",
       "        [147, 148, 149],\n",
       "        [150, 151, 152],\n",
       "        [153, 154, 155],\n",
       "        [156, 157, 158],\n",
       "        [159, 160, 161],\n",
       "        [162, 163, 164],\n",
       "        [165, 166, 167]],\n",
       "\n",
       "       [[168, 169, 170],\n",
       "        [171, 172, 173],\n",
       "        [174, 175, 176],\n",
       "        [177, 178, 179],\n",
       "        [180, 181, 182],\n",
       "        [183, 184, 185],\n",
       "        [186, 187, 188],\n",
       "        [189, 190, 191]]])"
      ]
     },
     "execution_count": 34,
     "metadata": {},
     "output_type": "execute_result"
    }
   ],
   "source": [
    "img = np.arange(8*8*3).reshape(8,8,3)\n",
    "print(img.shape)\n",
    "img"
   ]
  },
  {
   "cell_type": "code",
   "execution_count": 37,
   "metadata": {},
   "outputs": [
    {
     "data": {
      "text/plain": [
       "<matplotlib.image.AxesImage at 0x193c8332dd8>"
      ]
     },
     "execution_count": 37,
     "metadata": {},
     "output_type": "execute_result"
    },
    {
     "data": {
      "image/png": "[encoded data removed]",
      "text/plain": [
       "<matplotlib.figure.Figure at 0x193c82c3588>"
      ]
     },
     "metadata": {},
     "output_type": "display_data"
    }
   ],
   "source": [
    "plt.imshow(img.astype('uint8')) # 정수 타입 바꿔줘야"
   ]
  },
  {
   "cell_type": "code",
   "execution_count": 38,
   "metadata": {
    "scrolled": true
   },
   "outputs": [
    {
     "data": {
      "text/plain": [
       "<matplotlib.image.AxesImage at 0x193c8391828>"
      ]
     },
     "execution_count": 38,
     "metadata": {},
     "output_type": "execute_result"
    },
    {
     "data": {
      "image/png": "[encoded data removed]",
      "text/plain": [
       "<matplotlib.figure.Figure at 0x193c8319630>"
      ]
     },
     "metadata": {},
     "output_type": "display_data"
    }
   ],
   "source": [
    "img2 = img * [.2, 0.5,1]\n",
    "plt.imshow(img2.astype('uint8'))"
   ]
  },
  {
   "cell_type": "code",
   "execution_count": 40,
   "metadata": {
    "collapsed": true
   },
   "outputs": [
    {
     "data": {
      "text/plain": [
       "array([[[  0,   2,   6],\n",
       "        [  3,   8,  15],\n",
       "        [  6,  14,  24],\n",
       "        [  9,  20,  33],\n",
       "        [ 12,  26,  42],\n",
       "        [ 15,  32,  51],\n",
       "        [ 18,  38,  60],\n",
       "        [ 21,  44,  69]],\n",
       "\n",
       "       [[ 24,  50,  78],\n",
       "        [ 27,  56,  87],\n",
       "        [ 30,  62,  96],\n",
       "        [ 33,  68, 105],\n",
       "        [ 36,  74, 114],\n",
       "        [ 39,  80, 123],\n",
       "        [ 42,  86, 132],\n",
       "        [ 45,  92, 141]],\n",
       "\n",
       "       [[ 48,  98, 150],\n",
       "        [ 51, 104, 159],\n",
       "        [ 54, 110, 168],\n",
       "        [ 57, 116, 177],\n",
       "        [ 60, 122, 186],\n",
       "        [ 63, 128, 195],\n",
       "        [ 66, 134, 204],\n",
       "        [ 69, 140, 213]],\n",
       "\n",
       "       [[ 72, 146, 222],\n",
       "        [ 75, 152, 231],\n",
       "        [ 78, 158, 240],\n",
       "        [ 81, 164, 249],\n",
       "        [ 84, 170, 258],\n",
       "        [ 87, 176, 267],\n",
       "        [ 90, 182, 276],\n",
       "        [ 93, 188, 285]],\n",
       "\n",
       "       [[ 96, 194, 294],\n",
       "        [ 99, 200, 303],\n",
       "        [102, 206, 312],\n",
       "        [105, 212, 321],\n",
       "        [108, 218, 330],\n",
       "        [111, 224, 339],\n",
       "        [114, 230, 348],\n",
       "        [117, 236, 357]],\n",
       "\n",
       "       [[120, 242, 366],\n",
       "        [123, 248, 375],\n",
       "        [126, 254, 384],\n",
       "        [129, 260, 393],\n",
       "        [132, 266, 402],\n",
       "        [135, 272, 411],\n",
       "        [138, 278, 420],\n",
       "        [141, 284, 429]],\n",
       "\n",
       "       [[144, 290, 438],\n",
       "        [147, 296, 447],\n",
       "        [150, 302, 456],\n",
       "        [153, 308, 465],\n",
       "        [156, 314, 474],\n",
       "        [159, 320, 483],\n",
       "        [162, 326, 492],\n",
       "        [165, 332, 501]],\n",
       "\n",
       "       [[168, 338, 510],\n",
       "        [171, 344, 519],\n",
       "        [174, 350, 528],\n",
       "        [177, 356, 537],\n",
       "        [180, 362, 546],\n",
       "        [183, 368, 555],\n",
       "        [186, 374, 564],\n",
       "        [189, 380, 573]]])"
      ]
     },
     "execution_count": 40,
     "metadata": {},
     "output_type": "execute_result"
    }
   ],
   "source": [
    "img*[1,2,3]"
   ]
  },
  {
   "cell_type": "code",
   "execution_count": null,
   "metadata": {},
   "outputs": [],
   "source": []
  }
 ],
 "metadata": {
  "kernelspec": {
   "display_name": "Python 3",
   "language": "python",
   "name": "python3"
  },
  "language_info": {
   "codemirror_mode": {
    "name": "ipython",
    "version": 3
   },
   "file_extension": ".py",
   "mimetype": "text/x-python",
   "name": "python",
   "nbconvert_exporter": "python",
   "pygments_lexer": "ipython3",
   "version": "3.6.4"
  }
 },
 "nbformat": 4,
 "nbformat_minor": 2
}
