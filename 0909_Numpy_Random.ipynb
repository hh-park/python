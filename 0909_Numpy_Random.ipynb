{
 "cells": [
  {
   "cell_type": "markdown",
   "metadata": {},
   "source": [
    "# 파이썬 데이터분석\n",
    "## Numpy 랜덤 생성 함수  \n",
    "\n",
    "##### 필수\n",
    "- np.random.rand(): 0~1의 실수값\n",
    "- np.random.randn(): 평균이 0, 표준편차가 1인 정규분포에서 많이 뽑힌다(종모양 곡선) \n",
    "> 즉 0 주변에서 많이 뽑힘\n",
    "- np.random.randint( , ): 정해진 범위 내의 정수 뽑기  \n",
    "\n",
    "##### 선택\n",
    "- np.random.normal(): 정규분포에서 평균과 표준편차를 직접 지정\n",
    "- np.random.uniform( , ): 정해지 범위에서 실수값 뽑기  \n",
    "- \n",
    "- np.random.permutation(): 데이터를 임의로 섞어 새로운 array를 생성 # 카드 생성\n",
    "- np.random.choice(): 데이터를 정해진 갯수만큼 뽑는다 # 로또\n",
    "- np.random.seed(): 실험 재현을 위해 시드값을 고정한다\n",
    "\n"
   ]
  },
  {
   "cell_type": "code",
   "execution_count": 3,
   "metadata": {},
   "outputs": [],
   "source": [
    "import numpy as np\n",
    "import pandas as pd\n",
    "import matplotlib.pyplot as plt"
   ]
  },
  {
   "cell_type": "code",
   "execution_count": 4,
   "metadata": {
    "scrolled": true
   },
   "outputs": [
    {
     "data": {
      "text/plain": [
       "0.1951381590639193"
      ]
     },
     "execution_count": 4,
     "metadata": {},
     "output_type": "execute_result"
    }
   ],
   "source": [
    "np.random.rand()"
   ]
  },
  {
   "cell_type": "code",
   "execution_count": 5,
   "metadata": {
    "scrolled": true
   },
   "outputs": [
    {
     "data": {
      "text/plain": [
       "-0.11655919790442938"
      ]
     },
     "execution_count": 5,
     "metadata": {},
     "output_type": "execute_result"
    }
   ],
   "source": [
    "np.random.randn()"
   ]
  },
  {
   "cell_type": "code",
   "execution_count": 10,
   "metadata": {},
   "outputs": [
    {
     "data": {
      "text/plain": [
       "array([4, 3, 1, 2, 2, 4, 5, 5, 5, 5])"
      ]
     },
     "execution_count": 10,
     "metadata": {},
     "output_type": "execute_result"
    }
   ],
   "source": [
    "np.random.randint(1,7, size=10) # 주사위(1,7) 동전(0,2)"
   ]
  },
  {
   "cell_type": "code",
   "execution_count": 16,
   "metadata": {},
   "outputs": [
    {
     "data": {
      "text/plain": [
       "array([[1, 0, 1, 0, 1, 1, 0, 1, 0, 1],\n",
       "       [1, 0, 1, 1, 0, 0, 1, 1, 0, 1],\n",
       "       [0, 0, 0, 1, 1, 1, 0, 1, 0, 1],\n",
       "       [0, 1, 1, 1, 1, 1, 0, 1, 0, 1],\n",
       "       [1, 0, 0, 1, 1, 0, 0, 1, 0, 0],\n",
       "       [0, 0, 0, 0, 1, 0, 1, 1, 1, 1],\n",
       "       [1, 1, 1, 1, 1, 0, 1, 1, 0, 0],\n",
       "       [1, 0, 1, 1, 1, 0, 0, 0, 0, 0],\n",
       "       [1, 0, 1, 1, 0, 0, 0, 0, 0, 0],\n",
       "       [1, 0, 1, 0, 0, 0, 1, 0, 1, 1]])"
      ]
     },
     "execution_count": 16,
     "metadata": {},
     "output_type": "execute_result"
    }
   ],
   "source": [
    "np.random.randint(2, size=[10,10])"
   ]
  },
  {
   "cell_type": "code",
   "execution_count": 15,
   "metadata": {},
   "outputs": [
    {
     "data": {
      "text/plain": [
       "7"
      ]
     },
     "execution_count": 15,
     "metadata": {},
     "output_type": "execute_result"
    }
   ],
   "source": [
    "np.random.randint(2,size=10).sum() # 인자가 하나면 앞에 0이 생략"
   ]
  },
  {
   "cell_type": "code",
   "execution_count": 18,
   "metadata": {
    "collapsed": true
   },
   "outputs": [
    {
     "data": {
      "text/plain": [
       "array([[1, 0, 0, 1],\n",
       "       [1, 1, 1, 0],\n",
       "       [0, 0, 1, 1],\n",
       "       [0, 1, 0, 0],\n",
       "       [1, 1, 0, 0],\n",
       "       [0, 1, 0, 0],\n",
       "       [1, 1, 0, 0],\n",
       "       [0, 1, 0, 0],\n",
       "       [1, 1, 1, 0],\n",
       "       [0, 0, 1, 1],\n",
       "       [1, 1, 0, 0],\n",
       "       [0, 0, 1, 0],\n",
       "       [1, 0, 1, 1],\n",
       "       [0, 0, 1, 0],\n",
       "       [0, 0, 0, 0],\n",
       "       [1, 1, 0, 1],\n",
       "       [1, 0, 0, 1],\n",
       "       [0, 0, 0, 0],\n",
       "       [0, 1, 0, 0],\n",
       "       [0, 1, 0, 1],\n",
       "       [1, 0, 1, 0],\n",
       "       [1, 1, 0, 1],\n",
       "       [1, 1, 0, 1],\n",
       "       [1, 0, 1, 1],\n",
       "       [0, 1, 0, 1],\n",
       "       [0, 1, 0, 0],\n",
       "       [1, 1, 1, 1],\n",
       "       [1, 0, 1, 1],\n",
       "       [0, 1, 0, 1],\n",
       "       [1, 1, 1, 0],\n",
       "       [0, 1, 1, 0],\n",
       "       [0, 0, 1, 0],\n",
       "       [0, 1, 1, 1],\n",
       "       [1, 1, 0, 0],\n",
       "       [1, 1, 0, 0],\n",
       "       [0, 0, 0, 1],\n",
       "       [0, 0, 0, 1],\n",
       "       [1, 1, 1, 0],\n",
       "       [0, 1, 0, 1],\n",
       "       [1, 0, 1, 0],\n",
       "       [1, 1, 1, 0],\n",
       "       [0, 1, 1, 1],\n",
       "       [0, 1, 0, 1],\n",
       "       [0, 0, 0, 0],\n",
       "       [0, 0, 0, 1],\n",
       "       [0, 0, 0, 0],\n",
       "       [1, 1, 0, 1],\n",
       "       [0, 1, 0, 1],\n",
       "       [1, 1, 0, 1],\n",
       "       [1, 1, 0, 0],\n",
       "       [1, 1, 1, 0],\n",
       "       [0, 0, 1, 0],\n",
       "       [0, 0, 0, 1],\n",
       "       [1, 1, 1, 0],\n",
       "       [0, 0, 1, 0],\n",
       "       [0, 0, 1, 0],\n",
       "       [0, 1, 1, 1],\n",
       "       [0, 1, 0, 0],\n",
       "       [0, 1, 1, 0],\n",
       "       [1, 1, 0, 0],\n",
       "       [1, 1, 0, 1],\n",
       "       [0, 1, 0, 1],\n",
       "       [0, 0, 0, 1],\n",
       "       [0, 0, 1, 0],\n",
       "       [0, 0, 1, 1],\n",
       "       [0, 1, 1, 0],\n",
       "       [0, 1, 0, 0],\n",
       "       [0, 0, 0, 0],\n",
       "       [1, 0, 0, 1],\n",
       "       [0, 0, 1, 1],\n",
       "       [0, 1, 1, 0],\n",
       "       [0, 1, 1, 1],\n",
       "       [0, 0, 0, 0],\n",
       "       [0, 0, 0, 0],\n",
       "       [0, 1, 0, 1],\n",
       "       [0, 1, 0, 1],\n",
       "       [0, 1, 0, 1],\n",
       "       [1, 0, 1, 1],\n",
       "       [0, 1, 1, 0],\n",
       "       [0, 1, 0, 0],\n",
       "       [0, 1, 0, 1],\n",
       "       [1, 1, 1, 0],\n",
       "       [0, 1, 1, 0],\n",
       "       [1, 0, 0, 0],\n",
       "       [1, 1, 0, 1],\n",
       "       [0, 0, 1, 0],\n",
       "       [0, 1, 1, 1],\n",
       "       [1, 0, 0, 0],\n",
       "       [1, 0, 1, 0],\n",
       "       [0, 1, 1, 1],\n",
       "       [0, 0, 1, 1],\n",
       "       [1, 1, 1, 0],\n",
       "       [1, 0, 1, 1],\n",
       "       [0, 1, 0, 0],\n",
       "       [0, 1, 0, 1],\n",
       "       [0, 0, 1, 1],\n",
       "       [1, 1, 0, 0],\n",
       "       [0, 1, 0, 0],\n",
       "       [1, 0, 0, 0],\n",
       "       [0, 0, 0, 0]])"
      ]
     },
     "execution_count": 18,
     "metadata": {},
     "output_type": "execute_result"
    }
   ],
   "source": [
    "np.random.randint(2, size=[100,4]) # 동전 4개 던지는 것을 100번 함"
   ]
  },
  {
   "cell_type": "markdown",
   "metadata": {},
   "source": [
    "#### rand()\n",
    "- 0~1 사이의 임의의 실수 선택 (1은 제외)"
   ]
  },
  {
   "cell_type": "code",
   "execution_count": 20,
   "metadata": {},
   "outputs": [
    {
     "data": {
      "text/plain": [
       "array([[0.77558316, 0.40629718, 0.23664123, 0.11747826, 0.54793854],\n",
       "       [0.51800227, 0.14557916, 0.4213048 , 0.19589248, 0.97677761],\n",
       "       [0.63598376, 0.86635761, 0.77323952, 0.61215951, 0.33023708],\n",
       "       [0.76674013, 0.03277094, 0.90949463, 0.8783387 , 0.84638045],\n",
       "       [0.96923538, 0.99190883, 0.4199075 , 0.45243681, 0.86997182]])"
      ]
     },
     "execution_count": 20,
     "metadata": {},
     "output_type": "execute_result"
    }
   ],
   "source": [
    "f = np.random.rand(5,5) # (0,1) 구간의 임의의 실수 선택 # 0 뽑기 어려움\n",
    "f"
   ]
  },
  {
   "cell_type": "code",
   "execution_count": 22,
   "metadata": {},
   "outputs": [
    {
     "data": {
      "text/plain": [
       "6"
      ]
     },
     "execution_count": 22,
     "metadata": {},
     "output_type": "execute_result"
    }
   ],
   "source": [
    "int(np.random.rand()*6+1)"
   ]
  },
  {
   "cell_type": "code",
   "execution_count": 26,
   "metadata": {},
   "outputs": [
    {
     "data": {
      "text/plain": [
       "True"
      ]
     },
     "execution_count": 26,
     "metadata": {},
     "output_type": "execute_result"
    }
   ],
   "source": [
    "np.random.rand()<0.51"
   ]
  },
  {
   "cell_type": "code",
   "execution_count": 27,
   "metadata": {},
   "outputs": [
    {
     "data": {
      "text/plain": [
       "array([[ True,  True, False, False, False],\n",
       "       [ True,  True,  True,  True,  True],\n",
       "       [ True, False, False, False,  True],\n",
       "       [ True,  True,  True,  True,  True],\n",
       "       [False,  True, False,  True, False]])"
      ]
     },
     "execution_count": 27,
     "metadata": {},
     "output_type": "execute_result"
    }
   ],
   "source": [
    "r = np.random.rand(5,5)\n",
    "r>0.5"
   ]
  },
  {
   "cell_type": "code",
   "execution_count": 28,
   "metadata": {},
   "outputs": [
    {
     "data": {
      "text/plain": [
       "0.5738375524430281"
      ]
     },
     "execution_count": 28,
     "metadata": {},
     "output_type": "execute_result"
    }
   ],
   "source": [
    "r.mean()"
   ]
  },
  {
   "cell_type": "code",
   "execution_count": 29,
   "metadata": {},
   "outputs": [
    {
     "data": {
      "text/plain": [
       "0.500233243345557"
      ]
     },
     "execution_count": 29,
     "metadata": {},
     "output_type": "execute_result"
    }
   ],
   "source": [
    "r2 = np.random.rand(100000)\n",
    "r2.mean()"
   ]
  },
  {
   "cell_type": "code",
   "execution_count": 31,
   "metadata": {},
   "outputs": [
    {
     "data": {
      "text/plain": [
       "Text(0.5,1,'Histogram')"
      ]
     },
     "execution_count": 31,
     "metadata": {},
     "output_type": "execute_result"
    },
    {
     "data": {
      "image/png": "[encoded data removed]",
      "text/plain": [
       "<matplotlib.figure.Figure at 0x1d507658438>"
      ]
     },
     "metadata": {},
     "output_type": "display_data"
    }
   ],
   "source": [
    "plt.hist(r2, bins=10) # bins: 구간을 100으로 나눔\n",
    "plt.title('Histogram')"
   ]
  },
  {
   "cell_type": "markdown",
   "metadata": {},
   "source": [
    "- 큰 수의 법칙\n",
    "> 많이 실행할 수록 평균에 가까워짐"
   ]
  },
  {
   "cell_type": "markdown",
   "metadata": {},
   "source": [
    "### 연습문제\n",
    "- 10x10의 격자가 있다.\n",
    "- (0,0) 에서 출발하여 (9,9) 위치로 가면 성공이다\n",
    "- 지나간 경로를 plt.imshow() 함수로 그려보시오\n",
    "- 단, 상/하/좌/우 로 이동할 확률은 동일하다\n",
    "- 몇 번 만에 성공하는지도 확인해보기"
   ]
  },
  {
   "cell_type": "code",
   "execution_count": 35,
   "metadata": {},
   "outputs": [
    {
     "data": {
      "text/plain": [
       "<matplotlib.image.AxesImage at 0x1d508ba5908>"
      ]
     },
     "execution_count": 35,
     "metadata": {},
     "output_type": "execute_result"
    },
    {
     "data": {
      "image/png": "[encoded data removed]",
      "text/plain": [
       "<matplotlib.figure.Figure at 0x1d507acac50>"
      ]
     },
     "metadata": {},
     "output_type": "display_data"
    }
   ],
   "source": [
    "ex = np.eye(10)\n",
    "plt.imshow(ex)"
   ]
  },
  {
   "cell_type": "code",
   "execution_count": 52,
   "metadata": {},
   "outputs": [
    {
     "data": {
      "text/plain": [
       "<matplotlib.image.AxesImage at 0x1d508e25898>"
      ]
     },
     "execution_count": 52,
     "metadata": {},
     "output_type": "execute_result"
    },
    {
     "data": {
      "image/png": "[encoded data removed]",
      "text/plain": [
       "<matplotlib.figure.Figure at 0x1d508dab908>"
      ]
     },
     "metadata": {},
     "output_type": "display_data"
    }
   ],
   "source": [
    "x = np.random.randint(2, size=[10,10])\n",
    "x[0,0]=1\n",
    "x[9,9]=1\n",
    "for i in range(9):\n",
    "    for j in range(9):\n",
    "        if x[i][j]==1:\n",
    "            x[i+1][j+1] = 1\n",
    "            \n",
    "plt.imshow(x, cmap='gray_r')"
   ]
  },
  {
   "cell_type": "code",
   "execution_count": 56,
   "metadata": {},
   "outputs": [
    {
     "name": "stdout",
     "output_type": "stream",
     "text": [
      "0 0 2\n",
      "0 0 2\n",
      "1 0 1\n",
      "2 0 1\n",
      "1 0 0\n",
      "1 0 2\n",
      "0 0 0\n",
      "0 0 0\n",
      "1 0 1\n",
      "2 0 1\n",
      "3 0 1\n",
      "3 1 3\n",
      "4 1 1\n",
      "4 0 2\n",
      "4 1 3\n",
      "3 1 0\n",
      "2 1 0\n",
      "1 1 0\n",
      "0 1 0\n",
      "0 2 3\n",
      "0 2 0\n",
      "0 2 0\n",
      "0 2 0\n",
      "0 3 3\n",
      "0 3 0\n",
      "0 4 3\n",
      "0 3 2\n",
      "1 3 1\n",
      "1 4 3\n",
      "0 4 0\n",
      "1 4 1\n",
      "1 5 3\n",
      "1 4 2\n",
      "2 4 1\n",
      "2 5 3\n",
      "3 5 1\n",
      "3 4 2\n",
      "4 4 1\n",
      "4 5 3\n",
      "4 4 2\n",
      "4 3 2\n",
      "4 2 2\n",
      "4 3 3\n",
      "4 4 3\n",
      "4 5 3\n",
      "3 5 0\n",
      "3 6 3\n",
      "4 6 1\n",
      "3 6 0\n",
      "3 7 3\n",
      "2 7 0\n",
      "2 8 3\n",
      "1 8 0\n",
      "1 9 3\n",
      "2 9 1\n",
      "2 8 2\n",
      "2 9 3\n",
      "1 9 0\n",
      "1 9 3\n",
      "0 9 0\n",
      "0 9 3\n",
      "1 9 1\n",
      "1 8 2\n",
      "0 8 0\n",
      "0 9 3\n",
      "0 9 3\n",
      "0 9 0\n",
      "0 8 2\n",
      "1 8 1\n",
      "2 8 1\n",
      "3 8 1\n",
      "4 8 1\n",
      "4 9 3\n",
      "4 9 3\n",
      "5 9 1\n",
      "5 9 3\n",
      "4 9 0\n",
      "4 8 2\n",
      "3 8 0\n",
      "3 9 3\n",
      "3 9 3\n",
      "3 9 3\n",
      "3 9 3\n",
      "4 9 1\n",
      "5 9 1\n",
      "4 9 0\n",
      "3 9 0\n",
      "3 8 2\n",
      "3 7 2\n",
      "4 7 1\n",
      "4 8 3\n",
      "4 9 3\n",
      "5 9 1\n",
      "6 9 1\n",
      "7 9 1\n",
      "7 9 3\n",
      "6 9 0\n",
      "6 9 3\n",
      "5 9 0\n",
      "4 9 0\n",
      "3 9 0\n",
      "4 9 1\n",
      "5 9 1\n",
      "5 8 2\n",
      "6 8 1\n",
      "7 8 1\n",
      "7 9 3\n",
      "6 9 0\n",
      "5 9 0\n",
      "5 9 3\n",
      "4 9 0\n",
      "5 9 1\n",
      "4 9 0\n",
      "4 8 2\n",
      "3 8 0\n",
      "2 8 0\n",
      "1 8 0\n",
      "2 8 1\n",
      "2 9 3\n",
      "2 9 3\n",
      "1 9 0\n",
      "1 8 2\n",
      "1 9 3\n",
      "1 9 3\n",
      "0 9 0\n",
      "0 9 0\n",
      "1 9 1\n",
      "0 9 0\n",
      "0 9 0\n",
      "1 9 1\n",
      "0 9 0\n",
      "1 9 1\n",
      "2 9 1\n",
      "2 9 3\n",
      "2 8 2\n",
      "2 7 2\n",
      "3 7 1\n",
      "3 6 2\n",
      "4 6 1\n",
      "4 5 2\n",
      "5 5 1\n",
      "5 6 3\n",
      "5 5 2\n",
      "4 5 0\n",
      "4 6 3\n",
      "5 6 1\n",
      "4 6 0\n",
      "5 6 1\n",
      "6 6 1\n",
      "6 7 3\n",
      "7 7 1\n",
      "6 7 0\n",
      "6 8 3\n",
      "6 7 2\n",
      "7 7 1\n",
      "6 7 0\n",
      "6 6 2\n",
      "6 7 3\n",
      "7 7 1\n",
      "8 7 1\n",
      "8 6 2\n",
      "8 5 2\n",
      "8 4 2\n",
      "9 4 1\n",
      "9 4 1\n",
      "9 5 3\n",
      "8 5 0\n",
      "7 5 0\n",
      "6 5 0\n",
      "6 4 2\n",
      "6 3 2\n",
      "7 3 1\n",
      "7 4 3\n",
      "7 3 2\n",
      "8 3 1\n",
      "7 3 0\n",
      "6 3 0\n",
      "7 3 1\n",
      "6 3 0\n",
      "5 3 0\n",
      "5 2 2\n",
      "5 1 2\n",
      "5 2 3\n",
      "5 3 3\n",
      "5 2 2\n",
      "5 1 2\n",
      "5 0 2\n",
      "5 1 3\n",
      "5 0 2\n",
      "4 0 0\n",
      "4 1 3\n",
      "4 2 3\n",
      "4 3 3\n",
      "5 3 1\n",
      "5 4 3\n",
      "5 5 3\n",
      "6 5 1\n",
      "7 5 1\n",
      "7 6 3\n",
      "8 6 1\n",
      "7 6 0\n",
      "7 7 3\n",
      "7 6 2\n",
      "6 6 0\n",
      "5 6 0\n",
      "4 6 0\n",
      "4 7 3\n",
      "5 7 1\n",
      "5 8 3\n",
      "5 7 2\n",
      "4 7 0\n",
      "4 6 2\n",
      "3 6 0\n",
      "4 6 1\n",
      "4 5 2\n",
      "5 5 1\n",
      "6 5 1\n",
      "5 5 0\n",
      "6 5 1\n",
      "5 5 0\n",
      "6 5 1\n",
      "6 4 2\n",
      "5 4 0\n",
      "6 4 1\n",
      "6 3 2\n",
      "6 2 2\n",
      "6 3 3\n",
      "5 3 0\n",
      "5 2 2\n",
      "5 3 3\n",
      "5 2 2\n",
      "6 2 1\n",
      "7 2 1\n",
      "7 3 3\n",
      "7 2 2\n",
      "7 1 2\n",
      "7 2 3\n",
      "6 2 0\n",
      "6 3 3\n",
      "6 4 3\n",
      "6 3 2\n",
      "6 2 2\n",
      "6 1 2\n",
      "6 2 3\n",
      "5 2 0\n",
      "4 2 0\n",
      "4 3 3\n",
      "4 4 3\n",
      "4 3 2\n",
      "3 3 0\n",
      "3 2 2\n",
      "2 2 0\n",
      "3 2 1\n",
      "2 2 0\n",
      "1 2 0\n",
      "2 2 1\n",
      "1 2 0\n",
      "0 2 0\n",
      "0 3 3\n",
      "0 4 3\n",
      "0 3 2\n",
      "0 4 3\n",
      "0 4 0\n",
      "0 5 3\n",
      "0 5 0\n",
      "0 4 2\n",
      "0 5 3\n",
      "1 5 1\n",
      "0 5 0\n",
      "1 5 1\n",
      "1 6 3\n",
      "1 7 3\n",
      "2 7 1\n",
      "3 7 1\n",
      "4 7 1\n",
      "3 7 0\n",
      "4 7 1\n",
      "5 7 1\n",
      "5 6 2\n",
      "4 6 0\n",
      "4 7 3\n",
      "4 6 2\n",
      "4 5 2\n",
      "4 6 3\n",
      "4 5 2\n",
      "4 6 3\n",
      "4 5 2\n",
      "5 5 1\n",
      "5 4 2\n",
      "6 4 1\n",
      "6 3 2\n",
      "6 2 2\n",
      "7 2 1\n",
      "8 2 1\n",
      "7 2 0\n",
      "7 3 3\n",
      "7 4 3\n",
      "7 5 3\n",
      "6 5 0\n",
      "7 5 1\n",
      "7 4 2\n",
      "6 4 0\n",
      "6 5 3\n",
      "6 6 3\n",
      "6 5 2\n",
      "6 4 2\n",
      "7 4 1\n",
      "8 4 1\n",
      "8 5 3\n",
      "8 6 3\n",
      "8 7 3\n",
      "9 7 1\n",
      "9 6 2\n",
      "9 6 1\n",
      "8 6 0\n",
      "7 6 0\n",
      "6 6 0\n",
      "5 6 0\n",
      "5 7 3\n",
      "5 8 3\n",
      "5 7 2\n",
      "4 7 0\n",
      "4 8 3\n",
      "5 8 1\n",
      "4 8 0\n",
      "3 8 0\n",
      "2 8 0\n",
      "2 9 3\n",
      "1 9 0\n",
      "0 9 0\n",
      "0 8 2\n",
      "0 8 0\n",
      "0 7 2\n",
      "0 8 3\n",
      "0 7 2\n",
      "0 6 2\n",
      "0 5 2\n",
      "0 6 3\n",
      "0 7 3\n",
      "0 6 2\n",
      "0 6 0\n",
      "1 6 1\n",
      "1 5 2\n",
      "2 5 1\n",
      "1 5 0\n",
      "1 6 3\n",
      "1 5 2\n",
      "1 4 2\n",
      "1 3 2\n",
      "1 2 2\n",
      "1 1 2\n",
      "0 1 0\n",
      "0 1 0\n",
      "1 1 1\n",
      "0 1 0\n",
      "1 1 1\n",
      "0 1 0\n",
      "1 1 1\n",
      "1 2 3\n",
      "1 1 2\n",
      "2 1 1\n",
      "3 1 1\n",
      "2 1 0\n",
      "2 0 2\n",
      "3 0 1\n",
      "4 0 1\n",
      "3 0 0\n",
      "4 0 1\n",
      "5 0 1\n",
      "4 0 0\n",
      "3 0 0\n",
      "2 0 0\n",
      "2 1 3\n",
      "1 1 0\n",
      "1 0 2\n",
      "2 0 1\n",
      "2 1 3\n",
      "2 0 2\n",
      "2 0 2\n",
      "1 0 0\n",
      "0 0 0\n",
      "1 0 1\n",
      "1 1 3\n",
      "1 2 3\n",
      "0 2 0\n",
      "1 2 1\n",
      "1 1 2\n",
      "0 1 0\n",
      "0 2 3\n",
      "0 2 0\n",
      "0 1 2\n",
      "0 1 0\n",
      "0 0 2\n",
      "0 0 2\n",
      "0 0 2\n",
      "0 0 0\n",
      "0 0 0\n",
      "0 0 0\n",
      "0 0 0\n",
      "1 0 1\n",
      "1 1 3\n",
      "1 0 2\n",
      "1 1 3\n",
      "0 1 0\n",
      "0 0 2\n",
      "0 0 2\n",
      "0 0 2\n",
      "0 0 0\n",
      "0 1 3\n",
      "0 2 3\n",
      "0 2 0\n",
      "0 3 3\n",
      "1 3 1\n",
      "2 3 1\n",
      "2 4 3\n",
      "2 3 2\n",
      "3 3 1\n",
      "4 3 1\n",
      "4 4 3\n",
      "5 4 1\n",
      "5 3 2\n",
      "6 3 1\n",
      "5 3 0\n",
      "5 4 3\n",
      "5 3 2\n",
      "6 3 1\n",
      "6 2 2\n",
      "6 3 3\n",
      "7 3 1\n",
      "8 3 1\n",
      "7 3 0\n",
      "7 2 2\n",
      "8 2 1\n",
      "7 2 0\n",
      "6 2 0\n",
      "6 3 3\n",
      "6 4 3\n",
      "6 3 2\n",
      "6 4 3\n",
      "6 5 3\n",
      "7 5 1\n",
      "6 5 0\n",
      "7 5 1\n",
      "7 4 2\n",
      "7 5 3\n",
      "7 6 3\n",
      "7 7 3\n",
      "8 7 1\n",
      "8 6 2\n",
      "9 6 1\n",
      "9 7 3\n",
      "9 7 1\n",
      "9 6 2\n",
      "9 7 3\n",
      "9 8 3\n",
      "9 9 3\n"
     ]
    },
    {
     "data": {
      "text/plain": [
       "<matplotlib.image.AxesImage at 0x1d508f87dd8>"
      ]
     },
     "execution_count": 56,
     "metadata": {},
     "output_type": "execute_result"
    },
    {
     "data": {
      "image/png": "[encoded data removed]",
      "text/plain": [
       "<matplotlib.figure.Figure at 0x1d508c950f0>"
      ]
     },
     "metadata": {},
     "output_type": "display_data"
    }
   ],
   "source": [
    "board = np.zeros([10,10])\n",
    "x = 0\n",
    "y = 0\n",
    "board[x,y] = 1\n",
    "\n",
    "while True:\n",
    "    action = np.random.randint(4)\n",
    "    if action==0: # left\n",
    "        if x>0:\n",
    "            x = x-1\n",
    "    elif action==1: # right\n",
    "        if x<9:\n",
    "            x = x+1\n",
    "    elif action==2: # up\n",
    "        if y>0:\n",
    "            y = y-1\n",
    "    elif action==3: # down\n",
    "        if y<9:\n",
    "            y = y+1\n",
    "            \n",
    "    print(x,y,action)\n",
    "    board[x,y] +=1\n",
    "    \n",
    "    if x==9 and y==9:\n",
    "        break\n",
    "        \n",
    "plt.imshow(board, cmap='gray_r')\n"
   ]
  },
  {
   "cell_type": "code",
   "execution_count": null,
   "metadata": {},
   "outputs": [],
   "source": []
  }
 ],
 "metadata": {
  "kernelspec": {
   "display_name": "Python 3",
   "language": "python",
   "name": "python3"
  },
  "language_info": {
   "codemirror_mode": {
    "name": "ipython",
    "version": 3
   },
   "file_extension": ".py",
   "mimetype": "text/x-python",
   "name": "python",
   "nbconvert_exporter": "python",
   "pygments_lexer": "ipython3",
   "version": "3.6.4"
  }
 },
 "nbformat": 4,
 "nbformat_minor": 2
}
