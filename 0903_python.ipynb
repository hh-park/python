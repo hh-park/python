{
 "cells": [
  {
   "cell_type": "markdown",
   "metadata": {},
   "source": [
    "# python\n",
    "## python control\n",
    "- shift\n",
    "- enter\n",
    "\n",
    ">comment\n",
    "  \">comment\"\n",
    "\n",
    "This is python<br> 축약어\n",
    "- a: 앞에 칸을 만든다\n",
    "- b: 뒤에 칸을 만든다\n",
    "- dd: 현재 칸을 삭제한다"
   ]
  },
  {
   "cell_type": "code",
   "execution_count": 5,
   "metadata": {},
   "outputs": [
    {
     "name": "stdout",
     "output_type": "stream",
     "text": [
      "1\n",
      "2\n",
      "3\n",
      "4\n",
      "5\n",
      "6\n",
      "7\n",
      "8\n",
      "9\n"
     ]
    }
   ],
   "source": [
    "n =1\n",
    "while n<10:\n",
    "    print(n)\n",
    "    n = n+1"
   ]
  },
  {
   "cell_type": "code",
   "execution_count": 6,
   "metadata": {},
   "outputs": [
    {
     "name": "stdout",
     "output_type": "stream",
     "text": [
      "running...\n"
     ]
    }
   ],
   "source": [
    "while 1:\n",
    "    print('running...')\n",
    "    break"
   ]
  },
  {
   "cell_type": "code",
   "execution_count": 10,
   "metadata": {},
   "outputs": [
    {
     "name": "stdout",
     "output_type": "stream",
     "text": [
      "101\n"
     ]
    }
   ],
   "source": [
    "n = 0\n",
    "running = True\n",
    "while running:\n",
    "    n = n+1\n",
    "    if n>100:\n",
    "        running= False\n",
    "\n",
    "print(n)"
   ]
  },
  {
   "cell_type": "code",
   "execution_count": 13,
   "metadata": {},
   "outputs": [
    {
     "name": "stdout",
     "output_type": "stream",
     "text": [
      "239\n"
     ]
    }
   ],
   "source": [
    "n=0\n",
    "\n",
    "while 1:\n",
    "    n = n +1\n",
    "    if n**2>56789:\n",
    "        break\n",
    "print(n)"
   ]
  },
  {
   "cell_type": "code",
   "execution_count": 14,
   "metadata": {
    "scrolled": true
   },
   "outputs": [
    {
     "name": "stdout",
     "output_type": "stream",
     "text": [
      "1 1 1\n",
      "2 4 8\n",
      "3 9 27\n",
      "4 16 64\n"
     ]
    }
   ],
   "source": [
    "for i in [1,2,3,4]:\n",
    "    print(i, i*i, i*i*i)"
   ]
  },
  {
   "cell_type": "markdown",
   "metadata": {},
   "source": [
    "for i in list"
   ]
  },
  {
   "cell_type": "code",
   "execution_count": 16,
   "metadata": {
    "scrolled": true
   },
   "outputs": [
    {
     "name": "stdout",
     "output_type": "stream",
     "text": [
      "0\n",
      "1\n",
      "2\n",
      "3\n",
      "4\n",
      "5\n",
      "6\n",
      "7\n",
      "8\n",
      "9\n"
     ]
    }
   ],
   "source": [
    "for i in range(10):\n",
    "    print(i)"
   ]
  },
  {
   "cell_type": "code",
   "execution_count": 17,
   "metadata": {},
   "outputs": [
    {
     "data": {
      "text/plain": [
       "[0, 1, 2, 3, 4, 5, 6, 7, 8, 9]"
      ]
     },
     "execution_count": 17,
     "metadata": {},
     "output_type": "execute_result"
    }
   ],
   "source": [
    "list(range(10))"
   ]
  },
  {
   "cell_type": "code",
   "execution_count": 18,
   "metadata": {},
   "outputs": [],
   "source": [
    "score = [7,3,9,4,7]"
   ]
  },
  {
   "cell_type": "code",
   "execution_count": 19,
   "metadata": {},
   "outputs": [
    {
     "name": "stdout",
     "output_type": "stream",
     "text": [
      "점수는 7\n",
      "점수는 3\n",
      "점수는 9\n",
      "점수는 4\n",
      "점수는 7\n"
     ]
    }
   ],
   "source": [
    "for i in score:\n",
    "    print('점수는', i)"
   ]
  },
  {
   "cell_type": "code",
   "execution_count": 20,
   "metadata": {},
   "outputs": [
    {
     "name": "stdout",
     "output_type": "stream",
     "text": [
      "7\n",
      "3\n",
      "9\n",
      "4\n",
      "7\n"
     ]
    }
   ],
   "source": [
    "for i in range(5):\n",
    "    print(score[i])"
   ]
  },
  {
   "cell_type": "code",
   "execution_count": 22,
   "metadata": {},
   "outputs": [
    {
     "name": "stdout",
     "output_type": "stream",
     "text": [
      "0\n",
      "2\n",
      "4\n",
      "6\n",
      "8\n",
      "10\n",
      "12\n",
      "14\n",
      "16\n",
      "18\n",
      "20\n",
      "22\n",
      "24\n",
      "26\n",
      "28\n",
      "30\n",
      "32\n",
      "34\n",
      "36\n",
      "38\n",
      "40\n",
      "42\n",
      "44\n",
      "46\n",
      "48\n",
      "50\n",
      "52\n",
      "54\n",
      "56\n",
      "58\n",
      "60\n",
      "62\n",
      "64\n",
      "66\n",
      "68\n",
      "70\n",
      "72\n",
      "74\n",
      "76\n",
      "78\n",
      "80\n",
      "82\n",
      "84\n",
      "86\n",
      "88\n",
      "90\n",
      "92\n",
      "94\n",
      "96\n",
      "98\n"
     ]
    }
   ],
   "source": [
    "for i in range(0,100,2):\n",
    "    print(i)"
   ]
  },
  {
   "cell_type": "code",
   "execution_count": 23,
   "metadata": {},
   "outputs": [
    {
     "name": "stdout",
     "output_type": "stream",
     "text": [
      "10\n",
      "9\n",
      "8\n",
      "7\n",
      "6\n",
      "5\n",
      "4\n",
      "3\n",
      "2\n",
      "1\n"
     ]
    }
   ],
   "source": [
    "for i in range(10,0,-1):\n",
    "    print(i)"
   ]
  },
  {
   "cell_type": "code",
   "execution_count": 24,
   "metadata": {},
   "outputs": [
    {
     "name": "stdout",
     "output_type": "stream",
     "text": [
      "1 * 1 = 1\n",
      "1 * 2 = 2\n",
      "1 * 3 = 3\n",
      "1 * 4 = 4\n",
      "1 * 5 = 5\n",
      "1 * 6 = 6\n",
      "1 * 7 = 7\n",
      "1 * 8 = 8\n",
      "1 * 9 = 9\n",
      "2 * 1 = 2\n",
      "2 * 2 = 4\n",
      "2 * 3 = 6\n",
      "2 * 4 = 8\n",
      "2 * 5 = 10\n",
      "2 * 6 = 12\n",
      "2 * 7 = 14\n",
      "2 * 8 = 16\n",
      "2 * 9 = 18\n",
      "3 * 1 = 3\n",
      "3 * 2 = 6\n",
      "3 * 3 = 9\n",
      "3 * 4 = 12\n",
      "3 * 5 = 15\n",
      "3 * 6 = 18\n",
      "3 * 7 = 21\n",
      "3 * 8 = 24\n",
      "3 * 9 = 27\n",
      "4 * 1 = 4\n",
      "4 * 2 = 8\n",
      "4 * 3 = 12\n",
      "4 * 4 = 16\n",
      "4 * 5 = 20\n",
      "4 * 6 = 24\n",
      "4 * 7 = 28\n",
      "4 * 8 = 32\n",
      "4 * 9 = 36\n",
      "5 * 1 = 5\n",
      "5 * 2 = 10\n",
      "5 * 3 = 15\n",
      "5 * 4 = 20\n",
      "5 * 5 = 25\n",
      "5 * 6 = 30\n",
      "5 * 7 = 35\n",
      "5 * 8 = 40\n",
      "5 * 9 = 45\n",
      "6 * 1 = 6\n",
      "6 * 2 = 12\n",
      "6 * 3 = 18\n",
      "6 * 4 = 24\n",
      "6 * 5 = 30\n",
      "6 * 6 = 36\n",
      "6 * 7 = 42\n",
      "6 * 8 = 48\n",
      "6 * 9 = 54\n",
      "7 * 1 = 7\n",
      "7 * 2 = 14\n",
      "7 * 3 = 21\n",
      "7 * 4 = 28\n",
      "7 * 5 = 35\n",
      "7 * 6 = 42\n",
      "7 * 7 = 49\n",
      "7 * 8 = 56\n",
      "7 * 9 = 63\n",
      "8 * 1 = 8\n",
      "8 * 2 = 16\n",
      "8 * 3 = 24\n",
      "8 * 4 = 32\n",
      "8 * 5 = 40\n",
      "8 * 6 = 48\n",
      "8 * 7 = 56\n",
      "8 * 8 = 64\n",
      "8 * 9 = 72\n",
      "9 * 1 = 9\n",
      "9 * 2 = 18\n",
      "9 * 3 = 27\n",
      "9 * 4 = 36\n",
      "9 * 5 = 45\n",
      "9 * 6 = 54\n",
      "9 * 7 = 63\n",
      "9 * 8 = 72\n",
      "9 * 9 = 81\n"
     ]
    }
   ],
   "source": [
    "for i in range(1,10):\n",
    "    for j in range(1,10):\n",
    "        print(i, '*', j, '=', i*j)"
   ]
  },
  {
   "cell_type": "code",
   "execution_count": 28,
   "metadata": {},
   "outputs": [
    {
     "data": {
      "text/plain": [
       "[[1, 2, 3, 4, 5, 6, 7, 8, 9],\n",
       " [2, 4, 6, 8, 10, 12, 14, 16, 18],\n",
       " [3, 6, 9, 12, 15, 18, 21, 24, 27],\n",
       " [4, 8, 12, 16, 20, 24, 28, 32, 36],\n",
       " [5, 10, 15, 20, 25, 30, 35, 40, 45],\n",
       " [6, 12, 18, 24, 30, 36, 42, 48, 54],\n",
       " [7, 14, 21, 28, 35, 42, 49, 56, 63],\n",
       " [8, 16, 24, 32, 40, 48, 56, 64, 72],\n",
       " [9, 18, 27, 36, 45, 54, 63, 72, 81]]"
      ]
     },
     "execution_count": 28,
     "metadata": {},
     "output_type": "execute_result"
    }
   ],
   "source": [
    "# 2차원 표 형태의 데이터 생성\n",
    "data = []\n",
    "for i in range(1,10):\n",
    "    l=[]\n",
    "    for j in range(1,10):\n",
    "        l.append(i*j)\n",
    "    data.append(l)\n",
    "    \n",
    "data"
   ]
  },
  {
   "cell_type": "code",
   "execution_count": 29,
   "metadata": {
    "scrolled": true
   },
   "outputs": [
    {
     "data": {
      "text/plain": [
       "[[[0, 1, 2], [1, 2, 3], [2, 3, 4]],\n",
       " [[1, 2, 3], [2, 3, 4], [3, 4, 5]],\n",
       " [[2, 3, 4], [3, 4, 5], [4, 5, 6]]]"
      ]
     },
     "execution_count": 29,
     "metadata": {},
     "output_type": "execute_result"
    }
   ],
   "source": [
    "# 3차원 데이터 생성\n",
    "data = []\n",
    "for i in range(3):\n",
    "    l=[]\n",
    "    for j in range(3):\n",
    "        m=[]\n",
    "        for k in range(3):\n",
    "            m.append(i+j+k)\n",
    "        l.append(m)\n",
    "    data.append(l)\n",
    "data"
   ]
  },
  {
   "cell_type": "markdown",
   "metadata": {},
   "source": [
    "# 리스트 내포\n"
   ]
  },
  {
   "cell_type": "code",
   "execution_count": 30,
   "metadata": {},
   "outputs": [
    {
     "data": {
      "text/plain": [
       "()"
      ]
     },
     "execution_count": 30,
     "metadata": {},
     "output_type": "execute_result"
    }
   ],
   "source": [
    "n=-33\n",
    "a=1 if n>0 else()\n",
    "a"
   ]
  },
  {
   "cell_type": "code",
   "execution_count": 31,
   "metadata": {},
   "outputs": [
    {
     "data": {
      "text/plain": [
       "[0, 1, 4, 9, 16, 25, 36, 49, 64, 81]"
      ]
     },
     "execution_count": 31,
     "metadata": {},
     "output_type": "execute_result"
    }
   ],
   "source": [
    "l=[]\n",
    "for i in range(10):\n",
    "    l.append(i*i)\n",
    "l"
   ]
  },
  {
   "cell_type": "code",
   "execution_count": 32,
   "metadata": {},
   "outputs": [
    {
     "data": {
      "text/plain": [
       "[0, 1, 4, 9, 16, 25, 36, 49, 64, 81]"
      ]
     },
     "execution_count": 32,
     "metadata": {},
     "output_type": "execute_result"
    }
   ],
   "source": [
    "l=[i*i for i in range(10)]\n",
    "l"
   ]
  },
  {
   "cell_type": "code",
   "execution_count": 33,
   "metadata": {},
   "outputs": [
    {
     "data": {
      "text/plain": [
       "[[0, 0],\n",
       " [1, 1],\n",
       " [2, 4],\n",
       " [3, 9],\n",
       " [4, 16],\n",
       " [5, 25],\n",
       " [6, 36],\n",
       " [7, 49],\n",
       " [8, 64],\n",
       " [9, 81]]"
      ]
     },
     "execution_count": 33,
     "metadata": {},
     "output_type": "execute_result"
    }
   ],
   "source": [
    "l=[[i,i*i] for i in range(10)]\n",
    "l"
   ]
  },
  {
   "cell_type": "code",
   "execution_count": 38,
   "metadata": {
    "scrolled": true
   },
   "outputs": [
    {
     "data": {
      "text/plain": [
       "[[0, 0, 0],\n",
       " [0, 1, 0],\n",
       " [0, 2, 0],\n",
       " [0, 3, 0],\n",
       " [0, 4, 0],\n",
       " [0, 5, 0],\n",
       " [0, 6, 0],\n",
       " [0, 7, 0],\n",
       " [0, 8, 0],\n",
       " [0, 9, 0],\n",
       " [1, 0, 0],\n",
       " [1, 1, 1],\n",
       " [1, 2, 2],\n",
       " [1, 3, 3],\n",
       " [1, 4, 4],\n",
       " [1, 5, 5],\n",
       " [1, 6, 6],\n",
       " [1, 7, 7],\n",
       " [1, 8, 8],\n",
       " [1, 9, 9],\n",
       " [2, 0, 0],\n",
       " [2, 1, 2],\n",
       " [2, 2, 4],\n",
       " [2, 3, 6],\n",
       " [2, 4, 8],\n",
       " [2, 5, 10],\n",
       " [2, 6, 12],\n",
       " [2, 7, 14],\n",
       " [2, 8, 16],\n",
       " [2, 9, 18],\n",
       " [3, 0, 0],\n",
       " [3, 1, 3],\n",
       " [3, 2, 6],\n",
       " [3, 3, 9],\n",
       " [3, 4, 12],\n",
       " [3, 5, 15],\n",
       " [3, 6, 18],\n",
       " [3, 7, 21],\n",
       " [3, 8, 24],\n",
       " [3, 9, 27],\n",
       " [4, 0, 0],\n",
       " [4, 1, 4],\n",
       " [4, 2, 8],\n",
       " [4, 3, 12],\n",
       " [4, 4, 16],\n",
       " [4, 5, 20],\n",
       " [4, 6, 24],\n",
       " [4, 7, 28],\n",
       " [4, 8, 32],\n",
       " [4, 9, 36],\n",
       " [5, 0, 0],\n",
       " [5, 1, 5],\n",
       " [5, 2, 10],\n",
       " [5, 3, 15],\n",
       " [5, 4, 20],\n",
       " [5, 5, 25],\n",
       " [5, 6, 30],\n",
       " [5, 7, 35],\n",
       " [5, 8, 40],\n",
       " [5, 9, 45],\n",
       " [6, 0, 0],\n",
       " [6, 1, 6],\n",
       " [6, 2, 12],\n",
       " [6, 3, 18],\n",
       " [6, 4, 24],\n",
       " [6, 5, 30],\n",
       " [6, 6, 36],\n",
       " [6, 7, 42],\n",
       " [6, 8, 48],\n",
       " [6, 9, 54],\n",
       " [7, 0, 0],\n",
       " [7, 1, 7],\n",
       " [7, 2, 14],\n",
       " [7, 3, 21],\n",
       " [7, 4, 28],\n",
       " [7, 5, 35],\n",
       " [7, 6, 42],\n",
       " [7, 7, 49],\n",
       " [7, 8, 56],\n",
       " [7, 9, 63],\n",
       " [8, 0, 0],\n",
       " [8, 1, 8],\n",
       " [8, 2, 16],\n",
       " [8, 3, 24],\n",
       " [8, 4, 32],\n",
       " [8, 5, 40],\n",
       " [8, 6, 48],\n",
       " [8, 7, 56],\n",
       " [8, 8, 64],\n",
       " [8, 9, 72],\n",
       " [9, 0, 0],\n",
       " [9, 1, 9],\n",
       " [9, 2, 18],\n",
       " [9, 3, 27],\n",
       " [9, 4, 36],\n",
       " [9, 5, 45],\n",
       " [9, 6, 54],\n",
       " [9, 7, 63],\n",
       " [9, 8, 72],\n",
       " [9, 9, 81]]"
      ]
     },
     "execution_count": 38,
     "metadata": {},
     "output_type": "execute_result"
    }
   ],
   "source": [
    "l=[[i,j, i*j] for i in range(10) for j in range(10)]\n",
    "l"
   ]
  },
  {
   "cell_type": "code",
   "execution_count": 40,
   "metadata": {},
   "outputs": [
    {
     "data": {
      "text/plain": [
       "[[0, 0, 0],\n",
       " [1, 0, 0],\n",
       " [1, 1, 1],\n",
       " [2, 0, 0],\n",
       " [2, 1, 2],\n",
       " [2, 2, 4],\n",
       " [3, 0, 0],\n",
       " [3, 1, 3],\n",
       " [3, 2, 6],\n",
       " [3, 3, 9],\n",
       " [4, 0, 0],\n",
       " [4, 1, 4],\n",
       " [4, 2, 8],\n",
       " [4, 3, 12],\n",
       " [4, 4, 16],\n",
       " [5, 0, 0],\n",
       " [5, 1, 5],\n",
       " [5, 2, 10],\n",
       " [5, 3, 15],\n",
       " [5, 4, 20],\n",
       " [5, 5, 25],\n",
       " [6, 0, 0],\n",
       " [6, 1, 6],\n",
       " [6, 2, 12],\n",
       " [6, 3, 18],\n",
       " [6, 4, 24],\n",
       " [6, 5, 30],\n",
       " [6, 6, 36],\n",
       " [7, 0, 0],\n",
       " [7, 1, 7],\n",
       " [7, 2, 14],\n",
       " [7, 3, 21],\n",
       " [7, 4, 28],\n",
       " [7, 5, 35],\n",
       " [7, 6, 42],\n",
       " [7, 7, 49],\n",
       " [8, 0, 0],\n",
       " [8, 1, 8],\n",
       " [8, 2, 16],\n",
       " [8, 3, 24],\n",
       " [8, 4, 32],\n",
       " [8, 5, 40],\n",
       " [8, 6, 48],\n",
       " [8, 7, 56],\n",
       " [8, 8, 64],\n",
       " [9, 0, 0],\n",
       " [9, 1, 9],\n",
       " [9, 2, 18],\n",
       " [9, 3, 27],\n",
       " [9, 4, 36],\n",
       " [9, 5, 45],\n",
       " [9, 6, 54],\n",
       " [9, 7, 63],\n",
       " [9, 8, 72],\n",
       " [9, 9, 81]]"
      ]
     },
     "execution_count": 40,
     "metadata": {},
     "output_type": "execute_result"
    }
   ],
   "source": [
    "l=[[i,j, i*j] for i in range(10) for j in range(i+1)]\n",
    "l"
   ]
  },
  {
   "cell_type": "code",
   "execution_count": 39,
   "metadata": {},
   "outputs": [
    {
     "data": {
      "text/plain": [
       "[[0, 0, 0],\n",
       " [0, 1, 0],\n",
       " [0, 2, 0],\n",
       " [0, 3, 0],\n",
       " [0, 4, 0],\n",
       " [0, 5, 0],\n",
       " [0, 6, 0],\n",
       " [0, 7, 0],\n",
       " [0, 8, 0],\n",
       " [0, 9, 0],\n",
       " [1, 0, 0],\n",
       " [1, 1, 1],\n",
       " [1, 2, 2],\n",
       " [1, 3, 3],\n",
       " [1, 4, 4],\n",
       " [1, 5, 5],\n",
       " [1, 6, 6],\n",
       " [1, 7, 7],\n",
       " [1, 8, 8],\n",
       " [1, 9, 9],\n",
       " [2, 0, 0],\n",
       " [2, 1, 2],\n",
       " [2, 2, 4],\n",
       " [2, 3, 6],\n",
       " [2, 4, 8],\n",
       " [2, 5, 10],\n",
       " [2, 6, 12],\n",
       " [2, 7, 14],\n",
       " [2, 8, 16],\n",
       " [2, 9, 18],\n",
       " [3, 0, 0],\n",
       " [3, 1, 3],\n",
       " [3, 2, 6],\n",
       " [3, 3, 9],\n",
       " [3, 4, 12],\n",
       " [3, 5, 15],\n",
       " [3, 6, 18],\n",
       " [3, 7, 21],\n",
       " [3, 8, 24],\n",
       " [3, 9, 27],\n",
       " [4, 0, 0],\n",
       " [4, 1, 4],\n",
       " [4, 2, 8],\n",
       " [4, 3, 12],\n",
       " [4, 4, 16],\n",
       " [4, 5, 20],\n",
       " [4, 6, 24],\n",
       " [4, 7, 28],\n",
       " [4, 8, 32],\n",
       " [4, 9, 36],\n",
       " [5, 0, 0],\n",
       " [5, 1, 5],\n",
       " [5, 2, 10],\n",
       " [5, 3, 15],\n",
       " [5, 4, 20],\n",
       " [5, 5, 25],\n",
       " [5, 6, 30],\n",
       " [5, 7, 35],\n",
       " [5, 8, 40],\n",
       " [5, 9, 45],\n",
       " [6, 0, 0],\n",
       " [6, 1, 6],\n",
       " [6, 2, 12],\n",
       " [6, 3, 18],\n",
       " [6, 4, 24],\n",
       " [6, 5, 30],\n",
       " [6, 6, 36],\n",
       " [6, 7, 42],\n",
       " [6, 8, 48],\n",
       " [6, 9, 54],\n",
       " [7, 0, 0],\n",
       " [7, 1, 7],\n",
       " [7, 2, 14],\n",
       " [7, 3, 21],\n",
       " [7, 4, 28],\n",
       " [7, 5, 35],\n",
       " [7, 6, 42],\n",
       " [7, 7, 49],\n",
       " [7, 8, 56],\n",
       " [7, 9, 63],\n",
       " [8, 0, 0],\n",
       " [8, 1, 8],\n",
       " [8, 2, 16],\n",
       " [8, 3, 24],\n",
       " [8, 4, 32],\n",
       " [8, 5, 40],\n",
       " [8, 6, 48],\n",
       " [8, 7, 56],\n",
       " [8, 8, 64],\n",
       " [8, 9, 72],\n",
       " [9, 0, 0],\n",
       " [9, 1, 9],\n",
       " [9, 2, 18],\n",
       " [9, 3, 27],\n",
       " [9, 4, 36],\n",
       " [9, 5, 45],\n",
       " [9, 6, 54],\n",
       " [9, 7, 63],\n",
       " [9, 8, 72],\n",
       " [9, 9, 81],\n",
       " [0, 0, 0],\n",
       " [0, 1, 0],\n",
       " [0, 2, 0],\n",
       " [0, 3, 0],\n",
       " [0, 4, 0],\n",
       " [0, 5, 0],\n",
       " [0, 6, 0],\n",
       " [0, 7, 0],\n",
       " [0, 8, 0],\n",
       " [0, 9, 0],\n",
       " [1, 0, 0],\n",
       " [1, 1, 1],\n",
       " [1, 2, 2],\n",
       " [1, 3, 3],\n",
       " [1, 4, 4],\n",
       " [1, 5, 5],\n",
       " [1, 6, 6],\n",
       " [1, 7, 7],\n",
       " [1, 8, 8],\n",
       " [1, 9, 9],\n",
       " [2, 0, 0],\n",
       " [2, 1, 2],\n",
       " [2, 2, 4],\n",
       " [2, 3, 6],\n",
       " [2, 4, 8],\n",
       " [2, 5, 10],\n",
       " [2, 6, 12],\n",
       " [2, 7, 14],\n",
       " [2, 8, 16],\n",
       " [2, 9, 18],\n",
       " [3, 0, 0],\n",
       " [3, 1, 3],\n",
       " [3, 2, 6],\n",
       " [3, 3, 9],\n",
       " [3, 4, 12],\n",
       " [3, 5, 15],\n",
       " [3, 6, 18],\n",
       " [3, 7, 21],\n",
       " [3, 8, 24],\n",
       " [3, 9, 27],\n",
       " [4, 0, 0],\n",
       " [4, 1, 4],\n",
       " [4, 2, 8],\n",
       " [4, 3, 12],\n",
       " [4, 4, 16],\n",
       " [4, 5, 20],\n",
       " [4, 6, 24],\n",
       " [4, 7, 28],\n",
       " [4, 8, 32],\n",
       " [4, 9, 36],\n",
       " [5, 0, 0],\n",
       " [5, 1, 5],\n",
       " [5, 2, 10],\n",
       " [5, 3, 15],\n",
       " [5, 4, 20],\n",
       " [5, 5, 25],\n",
       " [5, 6, 30],\n",
       " [5, 7, 35],\n",
       " [5, 8, 40],\n",
       " [5, 9, 45],\n",
       " [6, 0, 0],\n",
       " [6, 1, 6],\n",
       " [6, 2, 12],\n",
       " [6, 3, 18],\n",
       " [6, 4, 24],\n",
       " [6, 5, 30],\n",
       " [6, 6, 36],\n",
       " [6, 7, 42],\n",
       " [6, 8, 48],\n",
       " [6, 9, 54],\n",
       " [7, 0, 0],\n",
       " [7, 1, 7],\n",
       " [7, 2, 14],\n",
       " [7, 3, 21],\n",
       " [7, 4, 28],\n",
       " [7, 5, 35],\n",
       " [7, 6, 42],\n",
       " [7, 7, 49],\n",
       " [7, 8, 56],\n",
       " [7, 9, 63],\n",
       " [8, 0, 0],\n",
       " [8, 1, 8],\n",
       " [8, 2, 16],\n",
       " [8, 3, 24],\n",
       " [8, 4, 32],\n",
       " [8, 5, 40],\n",
       " [8, 6, 48],\n",
       " [8, 7, 56],\n",
       " [8, 8, 64],\n",
       " [8, 9, 72],\n",
       " [9, 0, 0],\n",
       " [9, 1, 9],\n",
       " [9, 2, 18],\n",
       " [9, 3, 27],\n",
       " [9, 4, 36],\n",
       " [9, 5, 45],\n",
       " [9, 6, 54],\n",
       " [9, 7, 63],\n",
       " [9, 8, 72],\n",
       " [9, 9, 81]]"
      ]
     },
     "execution_count": 39,
     "metadata": {},
     "output_type": "execute_result"
    }
   ],
   "source": [
    "ㅣ=[]\n",
    "for i in range(10):\n",
    "    for j in range(10):\n",
    "        l.append([i,j, i*j])\n",
    "        \n",
    "l"
   ]
  },
  {
   "cell_type": "code",
   "execution_count": 41,
   "metadata": {},
   "outputs": [
    {
     "data": {
      "text/plain": [
       "[[1, 2, 3], [2, 3, 4], [3, 4, 5]]"
      ]
     },
     "execution_count": 41,
     "metadata": {},
     "output_type": "execute_result"
    }
   ],
   "source": [
    "# [[1,2,3],[2,3,4],[3,4,5]]\n",
    "\n",
    "l=[ [i+j for j in range(3)]for i in range(1,4)]\n",
    "l"
   ]
  },
  {
   "cell_type": "code",
   "execution_count": 43,
   "metadata": {},
   "outputs": [
    {
     "data": {
      "text/plain": [
       "[[1, 2, 3], [4, 5, 6], [7, 8, 9]]"
      ]
     },
     "execution_count": 43,
     "metadata": {},
     "output_type": "execute_result"
    }
   ],
   "source": [
    "# [[1,2,3],[4,5,6],[7,8,9]]\n",
    "\n",
    "l=[[i+j for j in range(3)]for i in [1,4,7]]\n",
    "l"
   ]
  },
  {
   "cell_type": "code",
   "execution_count": 46,
   "metadata": {},
   "outputs": [
    {
     "data": {
      "text/plain": [
       "[[1, 2, 3], [4, 5, 6], [7, 8, 9]]"
      ]
     },
     "execution_count": 46,
     "metadata": {},
     "output_type": "execute_result"
    }
   ],
   "source": [
    "l2 = [[i*3+j+1 for j in range(3)] for i in range(3)]\n",
    "l2"
   ]
  },
  {
   "cell_type": "code",
   "execution_count": 51,
   "metadata": {},
   "outputs": [
    {
     "data": {
      "text/plain": [
       "[1, 3, 5, 7, 9]"
      ]
     },
     "execution_count": 51,
     "metadata": {},
     "output_type": "execute_result"
    }
   ],
   "source": [
    "l=[i for i in range(10) if i%2==1]\n",
    "l\n",
    "\n"
   ]
  },
  {
   "cell_type": "code",
   "execution_count": 50,
   "metadata": {},
   "outputs": [
    {
     "data": {
      "text/plain": [
       "[-10, -9, -8, -7, -6, 6, 7, 8, 9]"
      ]
     },
     "execution_count": 50,
     "metadata": {},
     "output_type": "execute_result"
    }
   ],
   "source": [
    "l=[i for i in range(-10,10) if abs(i)>5]\n",
    "l"
   ]
  },
  {
   "cell_type": "code",
   "execution_count": 52,
   "metadata": {},
   "outputs": [
    {
     "data": {
      "text/plain": [
       "[1, 3, 5, 7, 9]"
      ]
     },
     "execution_count": 52,
     "metadata": {},
     "output_type": "execute_result"
    }
   ],
   "source": [
    "l2 = [j for j in range(1,10,2)]\n",
    "l2"
   ]
  },
  {
   "cell_type": "code",
   "execution_count": null,
   "metadata": {},
   "outputs": [],
   "source": [
    "소수 = [2]\n",
    "\n",
    "for n in range(3,10000):\n",
    "    found = False\n",
    "    for i in 소수:\n",
    "        if n%i==0:\n",
    "            found=True\n",
    "            break\n",
    "        if found==False:\n",
    "            소수.append(n)\n",
    "소수"
   ]
  },
  {
   "cell_type": "code",
   "execution_count": null,
   "metadata": {},
   "outputs": [],
   "source": []
  }
 ],
 "metadata": {
  "kernelspec": {
   "display_name": "Python 3",
   "language": "python",
   "name": "python3"
  },
  "language_info": {
   "codemirror_mode": {
    "name": "ipython",
    "version": 3
   },
   "file_extension": ".py",
   "mimetype": "text/x-python",
   "name": "python",
   "nbconvert_exporter": "python",
   "pygments_lexer": "ipython3",
   "version": "3.6.4"
  }
 },
 "nbformat": 4,
 "nbformat_minor": 2
}
